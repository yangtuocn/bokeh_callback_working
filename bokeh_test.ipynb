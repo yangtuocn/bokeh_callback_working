{
 "cells": [
  {
   "cell_type": "code",
   "execution_count": 1,
   "metadata": {
    "collapsed": true
   },
   "outputs": [],
   "source": [
    "import numpy\n",
    "import pandas"
   ]
  },
  {
   "cell_type": "code",
   "execution_count": 2,
   "metadata": {
    "collapsed": true
   },
   "outputs": [],
   "source": [
    "data = pandas.DataFrame(numpy.random.rand(100, 3), columns={'x','y','z'})\n",
    "data['id'] = [item for item in range(100)]"
   ]
  },
  {
   "cell_type": "code",
   "execution_count": 3,
   "metadata": {
    "collapsed": false
   },
   "outputs": [],
   "source": [
    "from bokeh.plotting import figure, show, output_notebook, ColumnDataSource\n",
    "from bokeh.models import TapTool, HoverTool, LassoSelectTool\n",
    "from bokeh.models import CustomJS"
   ]
  },
  {
   "cell_type": "code",
   "execution_count": 4,
   "metadata": {
    "collapsed": false
   },
   "outputs": [
    {
     "data": {
      "text/html": [
       "\n",
       "    <div class=\"bk-root\">\n",
       "        <a href=\"http://bokeh.pydata.org\" target=\"_blank\" class=\"bk-logo bk-logo-small bk-logo-notebook\"></a>\n",
       "        <span id=\"bbc9d07d-06c3-4e49-9c02-9a4b615662ef\">Loading BokehJS ...</span>\n",
       "    </div>"
      ]
     },
     "metadata": {},
     "output_type": "display_data"
    },
    {
     "data": {
      "application/javascript": [
       "\n",
       "(function(global) {\n",
       "  function now() {\n",
       "    return new Date();\n",
       "  }\n",
       "\n",
       "  var force = true;\n",
       "\n",
       "  if (typeof (window._bokeh_onload_callbacks) === \"undefined\" || force === true) {\n",
       "    window._bokeh_onload_callbacks = [];\n",
       "    window._bokeh_is_loading = undefined;\n",
       "  }\n",
       "\n",
       "\n",
       "  \n",
       "  if (typeof (window._bokeh_timeout) === \"undefined\" || force === true) {\n",
       "    window._bokeh_timeout = Date.now() + 5000;\n",
       "    window._bokeh_failed_load = false;\n",
       "  }\n",
       "\n",
       "  var NB_LOAD_WARNING = {'data': {'text/html':\n",
       "     \"<div style='background-color: #fdd'>\\n\"+\n",
       "     \"<p>\\n\"+\n",
       "     \"BokehJS does not appear to have successfully loaded. If loading BokehJS from CDN, this \\n\"+\n",
       "     \"may be due to a slow or bad network connection. Possible fixes:\\n\"+\n",
       "     \"</p>\\n\"+\n",
       "     \"<ul>\\n\"+\n",
       "     \"<li>re-rerun `output_notebook()` to attempt to load from CDN again, or</li>\\n\"+\n",
       "     \"<li>use INLINE resources instead, as so:</li>\\n\"+\n",
       "     \"</ul>\\n\"+\n",
       "     \"<code>\\n\"+\n",
       "     \"from bokeh.resources import INLINE\\n\"+\n",
       "     \"output_notebook(resources=INLINE)\\n\"+\n",
       "     \"</code>\\n\"+\n",
       "     \"</div>\"}};\n",
       "\n",
       "  function display_loaded() {\n",
       "    if (window.Bokeh !== undefined) {\n",
       "      document.getElementById(\"bbc9d07d-06c3-4e49-9c02-9a4b615662ef\").textContent = \"BokehJS successfully loaded.\";\n",
       "    } else if (Date.now() < window._bokeh_timeout) {\n",
       "      setTimeout(display_loaded, 100)\n",
       "    }\n",
       "  }\n",
       "\n",
       "  function run_callbacks() {\n",
       "    window._bokeh_onload_callbacks.forEach(function(callback) { callback() });\n",
       "    delete window._bokeh_onload_callbacks\n",
       "    console.info(\"Bokeh: all callbacks have finished\");\n",
       "  }\n",
       "\n",
       "  function load_libs(js_urls, callback) {\n",
       "    window._bokeh_onload_callbacks.push(callback);\n",
       "    if (window._bokeh_is_loading > 0) {\n",
       "      console.log(\"Bokeh: BokehJS is being loaded, scheduling callback at\", now());\n",
       "      return null;\n",
       "    }\n",
       "    if (js_urls == null || js_urls.length === 0) {\n",
       "      run_callbacks();\n",
       "      return null;\n",
       "    }\n",
       "    console.log(\"Bokeh: BokehJS not loaded, scheduling load and callback at\", now());\n",
       "    window._bokeh_is_loading = js_urls.length;\n",
       "    for (var i = 0; i < js_urls.length; i++) {\n",
       "      var url = js_urls[i];\n",
       "      var s = document.createElement('script');\n",
       "      s.src = url;\n",
       "      s.async = false;\n",
       "      s.onreadystatechange = s.onload = function() {\n",
       "        window._bokeh_is_loading--;\n",
       "        if (window._bokeh_is_loading === 0) {\n",
       "          console.log(\"Bokeh: all BokehJS libraries loaded\");\n",
       "          run_callbacks()\n",
       "        }\n",
       "      };\n",
       "      s.onerror = function() {\n",
       "        console.warn(\"failed to load library \" + url);\n",
       "      };\n",
       "      console.log(\"Bokeh: injecting script tag for BokehJS library: \", url);\n",
       "      document.getElementsByTagName(\"head\")[0].appendChild(s);\n",
       "    }\n",
       "  };var element = document.getElementById(\"bbc9d07d-06c3-4e49-9c02-9a4b615662ef\");\n",
       "  if (element == null) {\n",
       "    console.log(\"Bokeh: ERROR: autoload.js configured with elementid 'bbc9d07d-06c3-4e49-9c02-9a4b615662ef' but no matching script tag was found. \")\n",
       "    return false;\n",
       "  }\n",
       "\n",
       "  var js_urls = [\"https://cdn.pydata.org/bokeh/release/bokeh-0.12.4.min.js\", \"https://cdn.pydata.org/bokeh/release/bokeh-widgets-0.12.4.min.js\"];\n",
       "\n",
       "  var inline_js = [\n",
       "    function(Bokeh) {\n",
       "      Bokeh.set_log_level(\"info\");\n",
       "    },\n",
       "    \n",
       "    function(Bokeh) {\n",
       "      \n",
       "      document.getElementById(\"bbc9d07d-06c3-4e49-9c02-9a4b615662ef\").textContent = \"BokehJS is loading...\";\n",
       "    },\n",
       "    function(Bokeh) {\n",
       "      console.log(\"Bokeh: injecting CSS: https://cdn.pydata.org/bokeh/release/bokeh-0.12.4.min.css\");\n",
       "      Bokeh.embed.inject_css(\"https://cdn.pydata.org/bokeh/release/bokeh-0.12.4.min.css\");\n",
       "      console.log(\"Bokeh: injecting CSS: https://cdn.pydata.org/bokeh/release/bokeh-widgets-0.12.4.min.css\");\n",
       "      Bokeh.embed.inject_css(\"https://cdn.pydata.org/bokeh/release/bokeh-widgets-0.12.4.min.css\");\n",
       "    }\n",
       "  ];\n",
       "\n",
       "  function run_inline_js() {\n",
       "    \n",
       "    if ((window.Bokeh !== undefined) || (force === true)) {\n",
       "      for (var i = 0; i < inline_js.length; i++) {\n",
       "        inline_js[i](window.Bokeh);\n",
       "      }if (force === true) {\n",
       "        display_loaded();\n",
       "      }} else if (Date.now() < window._bokeh_timeout) {\n",
       "      setTimeout(run_inline_js, 100);\n",
       "    } else if (!window._bokeh_failed_load) {\n",
       "      console.log(\"Bokeh: BokehJS failed to load within specified timeout.\");\n",
       "      window._bokeh_failed_load = true;\n",
       "    } else if (force !== true) {\n",
       "      var cell = $(document.getElementById(\"bbc9d07d-06c3-4e49-9c02-9a4b615662ef\")).parents('.cell').data().cell;\n",
       "      cell.output_area.append_execute_result(NB_LOAD_WARNING)\n",
       "    }\n",
       "\n",
       "  }\n",
       "\n",
       "  if (window._bokeh_is_loading === 0) {\n",
       "    console.log(\"Bokeh: BokehJS loaded, going straight to plotting\");\n",
       "    run_inline_js();\n",
       "  } else {\n",
       "    load_libs(js_urls, function() {\n",
       "      console.log(\"Bokeh: BokehJS plotting callback run at\", now());\n",
       "      run_inline_js();\n",
       "    });\n",
       "  }\n",
       "}(this));"
      ]
     },
     "metadata": {},
     "output_type": "display_data"
    }
   ],
   "source": [
    "output_notebook()"
   ]
  },
  {
   "cell_type": "code",
   "execution_count": 5,
   "metadata": {
    "collapsed": false
   },
   "outputs": [
    {
     "data": {
      "text/plain": [
       "0.99374078243228103"
      ]
     },
     "execution_count": 5,
     "metadata": {},
     "output_type": "execute_result"
    }
   ],
   "source": [
    "data['z'].iloc[0]"
   ]
  },
  {
   "cell_type": "code",
   "execution_count": 6,
   "metadata": {
    "collapsed": false
   },
   "outputs": [],
   "source": [
    "source = ColumnDataSource(data=dict(x=data['x'], y=data['y'], z=data['z'], tid=data['id']))"
   ]
  },
  {
   "cell_type": "code",
   "execution_count": 7,
   "metadata": {
    "collapsed": false
   },
   "outputs": [],
   "source": [
    "hover = HoverTool(tooltips=[('z',\"@z\"),('id','@tid')])"
   ]
  },
  {
   "cell_type": "code",
   "execution_count": null,
   "metadata": {
    "collapsed": true
   },
   "outputs": [],
   "source": []
  },
  {
   "cell_type": "code",
   "execution_count": 8,
   "metadata": {
    "collapsed": false
   },
   "outputs": [],
   "source": [
    "p = figure(tools=[TapTool(), hover, LassoSelectTool()])"
   ]
  },
  {
   "cell_type": "code",
   "execution_count": 9,
   "metadata": {
    "collapsed": false
   },
   "outputs": [],
   "source": [
    "renderer = p.circle('x','y', source = source)"
   ]
  },
  {
   "cell_type": "code",
   "execution_count": 15,
   "metadata": {
    "collapsed": true
   },
   "outputs": [],
   "source": [
    "tap_selection = p.select(type=TapTool)"
   ]
  },
  {
   "cell_type": "code",
   "execution_count": null,
   "metadata": {
    "collapsed": true
   },
   "outputs": [],
   "source": [
    "def save_selection:\n",
    "    select_list.append()"
   ]
  },
  {
   "cell_type": "code",
   "execution_count": 16,
   "metadata": {
    "collapsed": false
   },
   "outputs": [
    {
     "ename": "NameError",
     "evalue": "name 'save_selection' is not defined",
     "output_type": "error",
     "traceback": [
      "\u001b[1;31m---------------------------------------------------------------------------\u001b[0m",
      "\u001b[1;31mNameError\u001b[0m                                 Traceback (most recent call last)",
      "\u001b[1;32m<ipython-input-16-520c3870cb75>\u001b[0m in \u001b[0;36m<module>\u001b[1;34m()\u001b[0m\n\u001b[1;32m----> 1\u001b[1;33m \u001b[0mtap_selection\u001b[0m\u001b[1;33m.\u001b[0m\u001b[0mcallback\u001b[0m \u001b[1;33m=\u001b[0m \u001b[0msave_selection\u001b[0m\u001b[1;33m\u001b[0m\u001b[0m\n\u001b[0m",
      "\u001b[1;31mNameError\u001b[0m: name 'save_selection' is not defined"
     ]
    }
   ],
   "source": [
    "tap_selection.callback = save_selection"
   ]
  },
  {
   "cell_type": "code",
   "execution_count": 14,
   "metadata": {
    "collapsed": true
   },
   "outputs": [],
   "source": [
    "selected_list = []"
   ]
  },
  {
   "cell_type": "code",
   "execution_count": null,
   "metadata": {
    "collapsed": false
   },
   "outputs": [],
   "source": [
    "source.callback = CustomJS(code=\"\"\"\n",
    "var selected = cb_obj.data;\n",
    "selected_list.append(selected);\n",
    "source.trigger('change');\n",
    "\"\"\")"
   ]
  },
  {
   "cell_type": "code",
   "execution_count": null,
   "metadata": {
    "collapsed": false
   },
   "outputs": [],
   "source": [
    "def save_selection(attr, old, new):\n",
    "    inds = np.array(new)\n",
    "    selected_list.append(inds)\n",
    "source.on_change('selected',save_selection)"
   ]
  },
  {
   "cell_type": "code",
   "execution_count": 13,
   "metadata": {
    "collapsed": false
   },
   "outputs": [
    {
     "name": "stdout",
     "output_type": "stream",
     "text": [
      "None\n"
     ]
    }
   ],
   "source": [
    "print(renderer.selection_glyph)"
   ]
  },
  {
   "cell_type": "code",
   "execution_count": 11,
   "metadata": {
    "collapsed": false
   },
   "outputs": [
    {
     "data": {
      "text/html": [
       "\n",
       "\n",
       "    <div class=\"bk-root\">\n",
       "        <div class=\"bk-plotdiv\" id=\"8708d658-a284-404c-9f40-9d00e41e40f1\"></div>\n",
       "    </div>\n",
       "<script type=\"text/javascript\">\n",
       "  \n",
       "  (function(global) {\n",
       "    function now() {\n",
       "      return new Date();\n",
       "    }\n",
       "  \n",
       "    var force = false;\n",
       "  \n",
       "    if (typeof (window._bokeh_onload_callbacks) === \"undefined\" || force === true) {\n",
       "      window._bokeh_onload_callbacks = [];\n",
       "      window._bokeh_is_loading = undefined;\n",
       "    }\n",
       "  \n",
       "  \n",
       "    \n",
       "    if (typeof (window._bokeh_timeout) === \"undefined\" || force === true) {\n",
       "      window._bokeh_timeout = Date.now() + 0;\n",
       "      window._bokeh_failed_load = false;\n",
       "    }\n",
       "  \n",
       "    var NB_LOAD_WARNING = {'data': {'text/html':\n",
       "       \"<div style='background-color: #fdd'>\\n\"+\n",
       "       \"<p>\\n\"+\n",
       "       \"BokehJS does not appear to have successfully loaded. If loading BokehJS from CDN, this \\n\"+\n",
       "       \"may be due to a slow or bad network connection. Possible fixes:\\n\"+\n",
       "       \"</p>\\n\"+\n",
       "       \"<ul>\\n\"+\n",
       "       \"<li>re-rerun `output_notebook()` to attempt to load from CDN again, or</li>\\n\"+\n",
       "       \"<li>use INLINE resources instead, as so:</li>\\n\"+\n",
       "       \"</ul>\\n\"+\n",
       "       \"<code>\\n\"+\n",
       "       \"from bokeh.resources import INLINE\\n\"+\n",
       "       \"output_notebook(resources=INLINE)\\n\"+\n",
       "       \"</code>\\n\"+\n",
       "       \"</div>\"}};\n",
       "  \n",
       "    function display_loaded() {\n",
       "      if (window.Bokeh !== undefined) {\n",
       "        document.getElementById(\"8708d658-a284-404c-9f40-9d00e41e40f1\").textContent = \"BokehJS successfully loaded.\";\n",
       "      } else if (Date.now() < window._bokeh_timeout) {\n",
       "        setTimeout(display_loaded, 100)\n",
       "      }\n",
       "    }\n",
       "  \n",
       "    function run_callbacks() {\n",
       "      window._bokeh_onload_callbacks.forEach(function(callback) { callback() });\n",
       "      delete window._bokeh_onload_callbacks\n",
       "      console.info(\"Bokeh: all callbacks have finished\");\n",
       "    }\n",
       "  \n",
       "    function load_libs(js_urls, callback) {\n",
       "      window._bokeh_onload_callbacks.push(callback);\n",
       "      if (window._bokeh_is_loading > 0) {\n",
       "        console.log(\"Bokeh: BokehJS is being loaded, scheduling callback at\", now());\n",
       "        return null;\n",
       "      }\n",
       "      if (js_urls == null || js_urls.length === 0) {\n",
       "        run_callbacks();\n",
       "        return null;\n",
       "      }\n",
       "      console.log(\"Bokeh: BokehJS not loaded, scheduling load and callback at\", now());\n",
       "      window._bokeh_is_loading = js_urls.length;\n",
       "      for (var i = 0; i < js_urls.length; i++) {\n",
       "        var url = js_urls[i];\n",
       "        var s = document.createElement('script');\n",
       "        s.src = url;\n",
       "        s.async = false;\n",
       "        s.onreadystatechange = s.onload = function() {\n",
       "          window._bokeh_is_loading--;\n",
       "          if (window._bokeh_is_loading === 0) {\n",
       "            console.log(\"Bokeh: all BokehJS libraries loaded\");\n",
       "            run_callbacks()\n",
       "          }\n",
       "        };\n",
       "        s.onerror = function() {\n",
       "          console.warn(\"failed to load library \" + url);\n",
       "        };\n",
       "        console.log(\"Bokeh: injecting script tag for BokehJS library: \", url);\n",
       "        document.getElementsByTagName(\"head\")[0].appendChild(s);\n",
       "      }\n",
       "    };var element = document.getElementById(\"8708d658-a284-404c-9f40-9d00e41e40f1\");\n",
       "    if (element == null) {\n",
       "      console.log(\"Bokeh: ERROR: autoload.js configured with elementid '8708d658-a284-404c-9f40-9d00e41e40f1' but no matching script tag was found. \")\n",
       "      return false;\n",
       "    }\n",
       "  \n",
       "    var js_urls = [];\n",
       "  \n",
       "    var inline_js = [\n",
       "      function(Bokeh) {\n",
       "        (function() {\n",
       "          var fn = function() {\n",
       "            var docs_json = {\"5eb57e87-7343-4a9d-872d-d4a174f08181\":{\"roots\":{\"references\":[{\"attributes\":{\"callback\":null},\"id\":\"a5ddb23d-2f36-4b67-bbba-1abccde5b6b2\",\"type\":\"DataRange1d\"},{\"attributes\":{\"callback\":null,\"overlay\":{\"id\":\"1b28c827-e2a8-4bce-9b87-3c211e8bb3b6\",\"type\":\"PolyAnnotation\"},\"plot\":{\"id\":\"fc11f6ae-c44a-4c0d-8655-936d3b820466\",\"subtype\":\"Figure\",\"type\":\"Plot\"}},\"id\":\"1cb8bdb4-719a-4581-b6a3-36a0cdb112e8\",\"type\":\"LassoSelectTool\"},{\"attributes\":{},\"id\":\"275fc1d6-7550-4759-a92a-760de9204a21\",\"type\":\"BasicTickFormatter\"},{\"attributes\":{},\"id\":\"75cb1ac4-3fce-4bc2-9d94-e0867b98e4dd\",\"type\":\"BasicTickFormatter\"},{\"attributes\":{\"callback\":null,\"plot\":{\"id\":\"fc11f6ae-c44a-4c0d-8655-936d3b820466\",\"subtype\":\"Figure\",\"type\":\"Plot\"}},\"id\":\"f2686fb8-7248-41fa-8fcc-19760d0b5268\",\"type\":\"TapTool\"},{\"attributes\":{\"formatter\":{\"id\":\"275fc1d6-7550-4759-a92a-760de9204a21\",\"type\":\"BasicTickFormatter\"},\"plot\":{\"id\":\"fc11f6ae-c44a-4c0d-8655-936d3b820466\",\"subtype\":\"Figure\",\"type\":\"Plot\"},\"ticker\":{\"id\":\"51c90d7d-c420-4b73-864a-9d1f835b20ce\",\"type\":\"BasicTicker\"}},\"id\":\"1923eff2-7ed2-4109-8bb0-61887bf9e047\",\"type\":\"LinearAxis\"},{\"attributes\":{\"callback\":null},\"id\":\"972856bd-3379-4578-aea8-491f005d6d10\",\"type\":\"DataRange1d\"},{\"attributes\":{\"callback\":null,\"column_names\":[\"z\",\"x\",\"tid\",\"y\"],\"data\":{\"tid\":[0,1,2,3,4,5,6,7,8,9,10,11,12,13,14,15,16,17,18,19,20,21,22,23,24,25,26,27,28,29,30,31,32,33,34,35,36,37,38,39,40,41,42,43,44,45,46,47,48,49,50,51,52,53,54,55,56,57,58,59,60,61,62,63,64,65,66,67,68,69,70,71,72,73,74,75,76,77,78,79,80,81,82,83,84,85,86,87,88,89,90,91,92,93,94,95,96,97,98,99],\"x\":{\"__ndarray__\":\"q6VMII4Z4D8QXaBvs1nvP+0E+Ieq0+I/wH646Xw/1j984+loLGHYP8pxe1qnlOY/JO/YI6pD0D8UqvAxnaTSP9wvDdlCNe0/kGnYIkCVyj8cXRMzlJTtP8D3FpFwraA/oNyRXddDlD8wZBSDLJXuP3SPQ8d0bdI/36BZpXpo7T8wbyC4w1bYP1rE8sEOBuM/Ql8hhB8r3T9Ib+8YFQG8P9ijdE/Bz88/Ulx7IV6E7T/SFtCIxiHnP3qJGsCmP+I/8pPyeibQ5T+2w+JTksfiPxSd0TS2idQ/8KPi1+wJvz+4s76tBv/GPypnj1zmQdE/QEMiJMWjsz/yvC7jGMLgP7Guuzutue8/JJv0hjYTzT/bhsJcymPvP0B5teI2aoI/8KnntdK64j8ya7T3W6ztP8jSMVW0sNo/mGeWj0Z43T9WdS5B4BjhPwRPjfFV7+Q/a3Dtu9bM5T9nGDx7WB3oP3+egEKBgeg/wEiAqWQ16D/skvNuztTRP8shwjU3Juk/MhYNvsTE2z9zNva4Sl3mP1JDg7paG9k/DuD3ti7N3j9wfGzMmIKjP+RCIR6JKsk/eAzAW4705D8wwERECkClP2vFwUMiNeE/CBjok420zz+Q+kaATsizP1pRPPvzXNU/ZLaZsLvCwD/c7bBl/BPZP7zYtkyvYO8/vhlh8JJF7j9oSFS/fuHAP8VzdSyxr+w/GnHDOar81T9IKSWkcXbqPy+gNKyC9uU/zjH4sRBG2D9QS6DAUmvHPyRXsKIuKdA/IMY/ABWpvj+R0cMUD/XjP1J8lTeGfeo/QBnOD9hU0D8HZukuO87oP51rjr6l2uw/LjvdvcZl4D+I65hFrSDBP/rNZkwxG+k/hBbo5ZT2wj+7fUgDYEToP/UaBRqiNuE/qqHuzj/a7j8Q0ajrbZXbP01VKMBC2OI/YOdvSZQZuT9aQ6GQvo/ZP0zbLq3AoO4/ZHBHcBLD6D8GEO5XVQjoPyEgDWgt9ew/yGaeWyfbzT/1P1HvJTHuP+bDxPhObOk/4l/aa7e07j82hOTzF+HiPzI6vaeWcOs/mD2vVkqkxz8=\",\"dtype\":\"float64\",\"shape\":[100]},\"y\":{\"__ndarray__\":\"utq73XZg1T8SrLZavq/uP4RyxvRtCMQ/JPYB0iMhyj83UH8PYtrqP+Cc5EkXFN4/TE/NAx687z/gR4/oST3hP0FeZYqK1OY/bsYd/22Q6T9Noj0mhSjkP4TTrzPIwt4/rCr0HKXk4z9xJxN+IwfjP/rdpbEG4ts/jKV3LZ+Y0D+fqaXAPGTnP4BD2oS35Xw/DGeo2hf35T8rAb40OZ7lPxzCcNzNydM/Yb6JT3St7T8s5W2vz6/oP8NYb05Jyeg/0fi01hE97D/s6DSk1njnP0DqxnvyK+4/Ek4AUWwX2T+zQv9/E1nlP7y12FlqbeQ/AsPILdd84D9QdI7yAqDLPz/mdOvFx+s/wEgaIZz3mz9UXe6MivrrP8bGsVddEdw/ZHgbL/X/1T8Ah2nE5AqkP4Q6imgWucA/dM1SR6og2D94V5fKqB3BPwqjY2frW+c/TXVdufMN4j8Yg5sNxQ7vP/v79Ncbl+g/hsiS7Pzy3D8wKHuNUzmyP71mjWz90+0/SDTLsY2J2z+Pdvx0/AXkPypBk7cy9NA/xDJbJY7c6j/IQ3I2oITZP3BBPS3wwb4/KOo8cxi4yz9mLFKg5m3ZPzDK/uA/JqQ/UvqvZFiJ1j8pPepvTdLhP2DBDVA2vJM/mblalmOK4j86ZPaO/vXtP/zlV0DN9ek/JXL8BJAo5D/iAHoK8QvpP6tngHJeXe0//7y4XQAT5D/glWW2PFK2P4u3dFnzguw/JEyZqUcH0z/Q7rpAdoGmP6QKoYnkk+E/mven5xer0T9Lf1C0brjoP/jXfcSpNrs//DxICaZjwj/2il8Lb4zuP34NyaJTX9s/+lLX+/Wi6D9xwOZd6BrhP0BqDFyBGIs/zoVuaKSo0j8Wj3LwCNbQPzpa8K3Ei+k/THT6c0qtyz8fqgfiBUruP3l2JWo++uY/AOhxBM/rZT8ru2M850DnP4KcZqwJxNE/bHTjNlX87j8DQwKjs4LsP1H59IpBUeE/TK/Uw5uJ5D9NZ3PCP27kP/RkyvyUf+s/L9rTJoD86j84+1xxx1CyP1zgYVJ2adI/1cJ8tKrd6T8=\",\"dtype\":\"float64\",\"shape\":[100]},\"z\":{\"__ndarray__\":\"bPAneLnM7z+f5IB+O1nhP3ahaWYX6+U/2jgeVM0j3j/4r+yZJzjJP49WAhJ15+0/gBh5V5rX0D/aU438A6/UP/pb/1Ick9M/uLMBLCQ13D+BYEO40CPpP4e0X5aFT+U/ABXophJEmj/SpOY8LnzUP/yNsVYtu8g/WLK/DbFD0D+agcCfB4TlPyBdbmAFK9s/57+wZVBl7z86UWdmM5feP2lMeIJLP+A/EDZeDHwtwT9glUilEbmbP4DVH3RyUp0/hrNgLFb66j8YoNibA7G7P4h23zHRoMY/Ik1kZZwH0j81Vqt9hZTrP+QhRGZmvcM/9yooPRCy6z8B9j+RNMjsP1liWKxcIO8/AHlsmjXDpD9iW2BiPOvrP+2R9N/COOc/GcQqMqMw6T9s3XMNK8/BP4DtGHFKjr8/+nlVD0VZ5D/krBJllFLgP6joyhOlaMA//LSMlVBswT/GEArVS0vgP+DU1CkpN+k/JuC0p9oW2T98ntNfTW7gP1QCSnWxps4/YHAikzTjuT/hGW9q4LLoPw0opEOSROA/zbHufPMw5D+9vB4EHZbvP3BlcQDyVKE/EWjsJgkY5D/qWtBNKhfqP3xIP1kDFus/N1kpn5ft6j/j3lghYEHtP/Dcvnujqq4/pBT+KLjD0z+0uGzLGZjTPyAT8OZPtas/hhwd92dv1j+wsfFfyFKsPwg9oJZh9eM/kKsf74fxvD+zHLswnwLiP+g2L422Aso/NPUBh/JG1D+1Jc74FMToP3UlNmAobeM/4jzxVvtP4z93Z11YjiHqP3BGQCEpDKk/uaofqXI97D+NCIw0rubgPxh6KZzzNr4/3BdpL2sb7D+s5dd0B0XkP288jgLrI+U/zGuMysHj3j9QlmdNEUi5P0iJL9JTjrg/KiNl8WLn3T/A7aimN8euP0AoBOSMt6g/IpphlaLx1j9uR5qkU0rnP0An6gtvOZU/6DVdigev3D8Ui4KJxVDSP/4xHBNBx9Q/Ju4Qm0qp1j8jpapxrqDhP0Tv4ipXcNY/cLSe7wkP1T/V0Vc70FbkP0hRIvAB8do/CEqGXmTgyj8=\",\"dtype\":\"float64\",\"shape\":[100]}}},\"id\":\"2992a8c6-7da2-4e60-8f0b-b4d814d9a128\",\"type\":\"ColumnDataSource\"},{\"attributes\":{\"plot\":{\"id\":\"fc11f6ae-c44a-4c0d-8655-936d3b820466\",\"subtype\":\"Figure\",\"type\":\"Plot\"},\"ticker\":{\"id\":\"51c90d7d-c420-4b73-864a-9d1f835b20ce\",\"type\":\"BasicTicker\"}},\"id\":\"69cf46d1-e0b7-4576-9839-e0d940a97387\",\"type\":\"Grid\"},{\"attributes\":{\"dimension\":1,\"plot\":{\"id\":\"fc11f6ae-c44a-4c0d-8655-936d3b820466\",\"subtype\":\"Figure\",\"type\":\"Plot\"},\"ticker\":{\"id\":\"79734b19-345f-4125-b2ac-c05087d0f85f\",\"type\":\"BasicTicker\"}},\"id\":\"0c7f11ba-41d2-410b-9c84-a498620e084d\",\"type\":\"Grid\"},{\"attributes\":{\"callback\":null,\"plot\":{\"id\":\"fc11f6ae-c44a-4c0d-8655-936d3b820466\",\"subtype\":\"Figure\",\"type\":\"Plot\"},\"tooltips\":[[\"z\",\"@z\"],[\"id\",\"@tid\"]]},\"id\":\"5de98471-8f1b-4407-a903-9ee72b278406\",\"type\":\"HoverTool\"},{\"attributes\":{},\"id\":\"51c90d7d-c420-4b73-864a-9d1f835b20ce\",\"type\":\"BasicTicker\"},{\"attributes\":{\"plot\":null,\"text\":\"\"},\"id\":\"c9ebebf7-3f84-4c10-ab39-b2d1f2469e83\",\"type\":\"Title\"},{\"attributes\":{\"active_drag\":\"auto\",\"active_scroll\":\"auto\",\"active_tap\":\"auto\",\"tools\":[{\"id\":\"f2686fb8-7248-41fa-8fcc-19760d0b5268\",\"type\":\"TapTool\"},{\"id\":\"5de98471-8f1b-4407-a903-9ee72b278406\",\"type\":\"HoverTool\"},{\"id\":\"1cb8bdb4-719a-4581-b6a3-36a0cdb112e8\",\"type\":\"LassoSelectTool\"}]},\"id\":\"ddfc5c4b-afa2-4d4a-81ee-4a84864f3189\",\"type\":\"Toolbar\"},{\"attributes\":{\"data_source\":{\"id\":\"2992a8c6-7da2-4e60-8f0b-b4d814d9a128\",\"type\":\"ColumnDataSource\"},\"glyph\":{\"id\":\"324adb98-2cbc-4547-9607-40a43a618f4d\",\"type\":\"Circle\"},\"hover_glyph\":null,\"nonselection_glyph\":{\"id\":\"86aa13ad-2e53-46d5-8282-d1572fff0c04\",\"type\":\"Circle\"},\"selection_glyph\":null},\"id\":\"91a04959-0c61-41a7-a637-f19cf2650890\",\"type\":\"GlyphRenderer\"},{\"attributes\":{\"fill_color\":{\"value\":\"#1f77b4\"},\"line_color\":{\"value\":\"#1f77b4\"},\"x\":{\"field\":\"x\"},\"y\":{\"field\":\"y\"}},\"id\":\"324adb98-2cbc-4547-9607-40a43a618f4d\",\"type\":\"Circle\"},{\"attributes\":{},\"id\":\"79734b19-345f-4125-b2ac-c05087d0f85f\",\"type\":\"BasicTicker\"},{\"attributes\":{},\"id\":\"66360a92-0610-4447-a4b2-a9f7d9fc209c\",\"type\":\"ToolEvents\"},{\"attributes\":{\"fill_alpha\":{\"value\":0.5},\"fill_color\":{\"value\":\"lightgrey\"},\"level\":\"overlay\",\"line_alpha\":{\"value\":1.0},\"line_color\":{\"value\":\"black\"},\"line_dash\":[4,4],\"line_width\":{\"value\":2},\"plot\":null,\"xs_units\":\"screen\",\"ys_units\":\"screen\"},\"id\":\"1b28c827-e2a8-4bce-9b87-3c211e8bb3b6\",\"type\":\"PolyAnnotation\"},{\"attributes\":{\"formatter\":{\"id\":\"75cb1ac4-3fce-4bc2-9d94-e0867b98e4dd\",\"type\":\"BasicTickFormatter\"},\"plot\":{\"id\":\"fc11f6ae-c44a-4c0d-8655-936d3b820466\",\"subtype\":\"Figure\",\"type\":\"Plot\"},\"ticker\":{\"id\":\"79734b19-345f-4125-b2ac-c05087d0f85f\",\"type\":\"BasicTicker\"}},\"id\":\"9d49a97b-0949-481f-83b2-7b57199a5a0e\",\"type\":\"LinearAxis\"},{\"attributes\":{\"below\":[{\"id\":\"1923eff2-7ed2-4109-8bb0-61887bf9e047\",\"type\":\"LinearAxis\"}],\"left\":[{\"id\":\"9d49a97b-0949-481f-83b2-7b57199a5a0e\",\"type\":\"LinearAxis\"}],\"renderers\":[{\"id\":\"1923eff2-7ed2-4109-8bb0-61887bf9e047\",\"type\":\"LinearAxis\"},{\"id\":\"69cf46d1-e0b7-4576-9839-e0d940a97387\",\"type\":\"Grid\"},{\"id\":\"9d49a97b-0949-481f-83b2-7b57199a5a0e\",\"type\":\"LinearAxis\"},{\"id\":\"0c7f11ba-41d2-410b-9c84-a498620e084d\",\"type\":\"Grid\"},{\"id\":\"1b28c827-e2a8-4bce-9b87-3c211e8bb3b6\",\"type\":\"PolyAnnotation\"},{\"id\":\"91a04959-0c61-41a7-a637-f19cf2650890\",\"type\":\"GlyphRenderer\"}],\"title\":{\"id\":\"c9ebebf7-3f84-4c10-ab39-b2d1f2469e83\",\"type\":\"Title\"},\"tool_events\":{\"id\":\"66360a92-0610-4447-a4b2-a9f7d9fc209c\",\"type\":\"ToolEvents\"},\"toolbar\":{\"id\":\"ddfc5c4b-afa2-4d4a-81ee-4a84864f3189\",\"type\":\"Toolbar\"},\"x_range\":{\"id\":\"a5ddb23d-2f36-4b67-bbba-1abccde5b6b2\",\"type\":\"DataRange1d\"},\"y_range\":{\"id\":\"972856bd-3379-4578-aea8-491f005d6d10\",\"type\":\"DataRange1d\"}},\"id\":\"fc11f6ae-c44a-4c0d-8655-936d3b820466\",\"subtype\":\"Figure\",\"type\":\"Plot\"},{\"attributes\":{\"fill_alpha\":{\"value\":0.1},\"fill_color\":{\"value\":\"#1f77b4\"},\"line_alpha\":{\"value\":0.1},\"line_color\":{\"value\":\"#1f77b4\"},\"x\":{\"field\":\"x\"},\"y\":{\"field\":\"y\"}},\"id\":\"86aa13ad-2e53-46d5-8282-d1572fff0c04\",\"type\":\"Circle\"}],\"root_ids\":[\"fc11f6ae-c44a-4c0d-8655-936d3b820466\"]},\"title\":\"Bokeh Application\",\"version\":\"0.12.4\"}};\n",
       "            var render_items = [{\"docid\":\"5eb57e87-7343-4a9d-872d-d4a174f08181\",\"elementid\":\"8708d658-a284-404c-9f40-9d00e41e40f1\",\"modelid\":\"fc11f6ae-c44a-4c0d-8655-936d3b820466\"}];\n",
       "            \n",
       "            Bokeh.embed.embed_items(docs_json, render_items);\n",
       "          };\n",
       "          if (document.readyState != \"loading\") fn();\n",
       "          else document.addEventListener(\"DOMContentLoaded\", fn);\n",
       "        })();\n",
       "      },\n",
       "      function(Bokeh) {\n",
       "      }\n",
       "    ];\n",
       "  \n",
       "    function run_inline_js() {\n",
       "      \n",
       "      if ((window.Bokeh !== undefined) || (force === true)) {\n",
       "        for (var i = 0; i < inline_js.length; i++) {\n",
       "          inline_js[i](window.Bokeh);\n",
       "        }if (force === true) {\n",
       "          display_loaded();\n",
       "        }} else if (Date.now() < window._bokeh_timeout) {\n",
       "        setTimeout(run_inline_js, 100);\n",
       "      } else if (!window._bokeh_failed_load) {\n",
       "        console.log(\"Bokeh: BokehJS failed to load within specified timeout.\");\n",
       "        window._bokeh_failed_load = true;\n",
       "      } else if (force !== true) {\n",
       "        var cell = $(document.getElementById(\"8708d658-a284-404c-9f40-9d00e41e40f1\")).parents('.cell').data().cell;\n",
       "        cell.output_area.append_execute_result(NB_LOAD_WARNING)\n",
       "      }\n",
       "  \n",
       "    }\n",
       "  \n",
       "    if (window._bokeh_is_loading === 0) {\n",
       "      console.log(\"Bokeh: BokehJS loaded, going straight to plotting\");\n",
       "      run_inline_js();\n",
       "    } else {\n",
       "      load_libs(js_urls, function() {\n",
       "        console.log(\"Bokeh: BokehJS plotting callback run at\", now());\n",
       "        run_inline_js();\n",
       "      });\n",
       "    }\n",
       "  }(this));\n",
       "</script>"
      ]
     },
     "metadata": {},
     "output_type": "display_data"
    }
   ],
   "source": [
    "show(p)"
   ]
  },
  {
   "cell_type": "code",
   "execution_count": null,
   "metadata": {
    "collapsed": false
   },
   "outputs": [],
   "source": [
    "selected_list"
   ]
  },
  {
   "cell_type": "code",
   "execution_count": null,
   "metadata": {
    "collapsed": true
   },
   "outputs": [],
   "source": []
  },
  {
   "cell_type": "code",
   "execution_count": null,
   "metadata": {
    "collapsed": false
   },
   "outputs": [],
   "source": [
    "data"
   ]
  },
  {
   "cell_type": "code",
   "execution_count": null,
   "metadata": {
    "collapsed": true
   },
   "outputs": [],
   "source": []
  }
 ],
 "metadata": {
  "anaconda-cloud": {},
  "kernelspec": {
   "display_name": "Python [Root]",
   "language": "python",
   "name": "Python [Root]"
  },
  "language_info": {
   "codemirror_mode": {
    "name": "ipython",
    "version": 3
   },
   "file_extension": ".py",
   "mimetype": "text/x-python",
   "name": "python",
   "nbconvert_exporter": "python",
   "pygments_lexer": "ipython3",
   "version": "3.5.2"
  }
 },
 "nbformat": 4,
 "nbformat_minor": 0
}
