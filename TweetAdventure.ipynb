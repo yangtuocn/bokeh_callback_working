{
 "cells": [
  {
   "cell_type": "code",
   "execution_count": null,
   "metadata": {
    "collapsed": false
   },
   "outputs": [],
   "source": [
    "from collections import Counter\n",
    "import json\n",
    "from sklearn.cluster import KMeans\n",
    "import pandas\n",
    "import matplotlib.pyplot as plt\n",
    "import pprint\n",
    "from nltk.corpus import stopwords\n",
    "import string\n",
    "from nltk.tokenize import TweetTokenizer\n",
    "from wordcloud import WordCloud"
   ]
  },
  {
   "cell_type": "code",
   "execution_count": null,
   "metadata": {
    "collapsed": false
   },
   "outputs": [],
   "source": [
    "tweets = []\n",
    "\n",
    "with open('result.txt','rt') as tweetFile:\n",
    "    for line in tweetFile:\n",
    "        try:\n",
    "            tweets.append(json.loads(line))\n",
    "        except:\n",
    "            pass"
   ]
  },
  {
   "cell_type": "code",
   "execution_count": null,
   "metadata": {
    "collapsed": false
   },
   "outputs": [],
   "source": [
    "tData = pandas.DataFrame.from_dict(tweets)"
   ]
  },
  {
   "cell_type": "code",
   "execution_count": null,
   "metadata": {
    "collapsed": false
   },
   "outputs": [],
   "source": [
    "excludeWord = stopwords.words(\"English\") + \\\n",
    "                list(string.punctuation) + \\\n",
    "                ['rt','via','...','…','“','”','️','’','https','⚡',\"it's\",\"don't\",'thanks', \\\n",
    "                 'w','4','4.0','2','80','https://t.…']\n",
    "tTokenizer = TweetTokenizer(preserve_case=False, strip_handles=True, reduce_len=True)"
   ]
  },
  {
   "cell_type": "code",
   "execution_count": null,
   "metadata": {
    "collapsed": false
   },
   "outputs": [],
   "source": [
    "tokenList = []\n",
    "for item in tData['text']:\n",
    "    try:\n",
    "        tokenList.append([word for word in tTokenizer.tokenize(item) if word not in excludeWord])\n",
    "    except:\n",
    "        tokenList.append([])\n",
    "tData['token'] = tokenList"
   ]
  },
  {
   "cell_type": "code",
   "execution_count": null,
   "metadata": {
    "collapsed": false
   },
   "outputs": [],
   "source": [
    "tokenCount = Counter()\n",
    "for item in tData['token']:\n",
    "    tokenCount.update(item)"
   ]
  },
  {
   "cell_type": "code",
   "execution_count": null,
   "metadata": {
    "collapsed": false
   },
   "outputs": [],
   "source": [
    "token100 = [item[0] for item in tokenCount.most_common(100)]"
   ]
  },
  {
   "cell_type": "code",
   "execution_count": null,
   "metadata": {
    "collapsed": false
   },
   "outputs": [],
   "source": [
    "tokenVec = pandas.DataFrame(columns = token100)\n",
    "for token in token100:\n",
    "    tokenVec[token] = [int(token in item) for item in tData['token']]"
   ]
  },
  {
   "cell_type": "code",
   "execution_count": null,
   "metadata": {
    "collapsed": false
   },
   "outputs": [],
   "source": [
    "n = 3\n",
    "kmeans1 = KMeans(n_clusters = n).fit(tokenVec)\n",
    "pre1 = kmeans1.predict(tokenVec)"
   ]
  },
  {
   "cell_type": "code",
   "execution_count": null,
   "metadata": {
    "collapsed": false
   },
   "outputs": [],
   "source": [
    "for i in range(n):\n",
    "    saveFilename = 'cluster' + str(i) + 'of' + str(n) + '.txt'\n",
    "    with open(saveFilename,'wt') as saveFile:\n",
    "        for item in tData[pre1==i]['token']:\n",
    "            for word in item:\n",
    "                try:\n",
    "                    saveFile.write(word + ',')\n",
    "                except:\n",
    "                    pass\n",
    "    \n",
    "    text = open(saveFilename,'rt').read()\n",
    "    wCloud = WordCloud().generate(text)\n",
    "    plt.imshow(wCloud)\n",
    "    plt.axis(\"off\")\n",
    "    plt.show()"
   ]
  },
  {
   "cell_type": "code",
   "execution_count": null,
   "metadata": {
    "collapsed": false
   },
   "outputs": [],
   "source": [
    "preCount = Counter()\n",
    "preCount.update(pre1)\n",
    "preCount"
   ]
  },
  {
   "cell_type": "code",
   "execution_count": null,
   "metadata": {
    "collapsed": false
   },
   "outputs": [],
   "source": [
    "group1Vec = tokenVec[pre1==1]"
   ]
  },
  {
   "cell_type": "code",
   "execution_count": null,
   "metadata": {
    "collapsed": false
   },
   "outputs": [],
   "source": [
    "m = 4\n",
    "kmeans2 = KMeans(n_clusters = m).fit(group1Vec)"
   ]
  },
  {
   "cell_type": "code",
   "execution_count": null,
   "metadata": {
    "collapsed": true
   },
   "outputs": [],
   "source": [
    "pre2 = kmeans2.predict(group1Vec)"
   ]
  },
  {
   "cell_type": "code",
   "execution_count": null,
   "metadata": {
    "collapsed": false
   },
   "outputs": [],
   "source": [
    "group1Data = tData[pre1==1]"
   ]
  },
  {
   "cell_type": "code",
   "execution_count": null,
   "metadata": {
    "collapsed": true
   },
   "outputs": [],
   "source": [
    "for i in range(m):\n",
    "    saveFilename = 'clusterGroup1_' + str(i) + 'of' + str(n) + '.txt'\n",
    "    with open(saveFilename,'wt') as saveFile:\n",
    "        for item in group1Data[pre2==i]['token']:\n",
    "            for word in item:\n",
    "                try:\n",
    "                    saveFile.write(word + ',')\n",
    "                except:\n",
    "                    pass\n",
    "    \n",
    "    text = open(saveFilename,'rt').read()\n",
    "    wCloud = WordCloud().generate(text)\n",
    "    plt.imshow(wCloud)\n",
    "    plt.axis(\"off\")\n",
    "    plt.show()"
   ]
  },
  {
   "cell_type": "code",
   "execution_count": null,
   "metadata": {
    "collapsed": false
   },
   "outputs": [],
   "source": [
    "level2Count = Counter()\n",
    "level2Count.update(pre2)\n",
    "level2Count"
   ]
  },
  {
   "cell_type": "code",
   "execution_count": null,
   "metadata": {
    "collapsed": false
   },
   "outputs": [],
   "source": [
    "with open('AllText.txt','wt') as saveFile:\n",
    "    for item in tData['text']:\n",
    "        try:\n",
    "            saveFile.write(item + '\\n')\n",
    "        except:\n",
    "            pass"
   ]
  },
  {
   "cell_type": "code",
   "execution_count": null,
   "metadata": {
    "collapsed": true
   },
   "outputs": [],
   "source": []
  }
 ],
 "metadata": {
  "anaconda-cloud": {},
  "kernelspec": {
   "display_name": "Python [Root]",
   "language": "python",
   "name": "Python [Root]"
  },
  "language_info": {
   "codemirror_mode": {
    "name": "ipython",
    "version": 3
   },
   "file_extension": ".py",
   "mimetype": "text/x-python",
   "name": "python",
   "nbconvert_exporter": "python",
   "pygments_lexer": "ipython3",
   "version": "3.5.2"
  }
 },
 "nbformat": 4,
 "nbformat_minor": 0
}
