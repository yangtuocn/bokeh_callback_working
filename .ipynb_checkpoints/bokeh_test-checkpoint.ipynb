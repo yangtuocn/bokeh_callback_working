{
 "cells": [
  {
   "cell_type": "code",
   "execution_count": 1,
   "metadata": {
    "collapsed": true
   },
   "outputs": [],
   "source": [
    "import numpy\n",
    "import pandas"
   ]
  },
  {
   "cell_type": "code",
   "execution_count": 2,
   "metadata": {
    "collapsed": true
   },
   "outputs": [],
   "source": [
    "data = pandas.DataFrame(numpy.random.rand(100, 3), columns={'x','y','z'})\n",
    "data['id'] = [item for item in range(100)]"
   ]
  },
  {
   "cell_type": "code",
   "execution_count": 22,
   "metadata": {
    "collapsed": true
   },
   "outputs": [],
   "source": [
    "from bokeh.plotting import figure, show, output_notebook, ColumnDataSource\n",
    "from bokeh.models import HoverTool\n",
    "from bokeh.models import CustomJS"
   ]
  },
  {
   "cell_type": "code",
   "execution_count": 4,
   "metadata": {
    "collapsed": false
   },
   "outputs": [
    {
     "data": {
      "text/html": [
       "\n",
       "    <div class=\"bk-root\">\n",
       "        <a href=\"http://bokeh.pydata.org\" target=\"_blank\" class=\"bk-logo bk-logo-small bk-logo-notebook\"></a>\n",
       "        <span id=\"fc7a3a4a-b784-4914-a020-9baeb9281167\">Loading BokehJS ...</span>\n",
       "    </div>"
      ]
     },
     "metadata": {},
     "output_type": "display_data"
    },
    {
     "data": {
      "application/javascript": [
       "\n",
       "(function(global) {\n",
       "  function now() {\n",
       "    return new Date();\n",
       "  }\n",
       "\n",
       "  var force = true;\n",
       "\n",
       "  if (typeof (window._bokeh_onload_callbacks) === \"undefined\" || force === true) {\n",
       "    window._bokeh_onload_callbacks = [];\n",
       "    window._bokeh_is_loading = undefined;\n",
       "  }\n",
       "\n",
       "\n",
       "  \n",
       "  if (typeof (window._bokeh_timeout) === \"undefined\" || force === true) {\n",
       "    window._bokeh_timeout = Date.now() + 5000;\n",
       "    window._bokeh_failed_load = false;\n",
       "  }\n",
       "\n",
       "  var NB_LOAD_WARNING = {'data': {'text/html':\n",
       "     \"<div style='background-color: #fdd'>\\n\"+\n",
       "     \"<p>\\n\"+\n",
       "     \"BokehJS does not appear to have successfully loaded. If loading BokehJS from CDN, this \\n\"+\n",
       "     \"may be due to a slow or bad network connection. Possible fixes:\\n\"+\n",
       "     \"</p>\\n\"+\n",
       "     \"<ul>\\n\"+\n",
       "     \"<li>re-rerun `output_notebook()` to attempt to load from CDN again, or</li>\\n\"+\n",
       "     \"<li>use INLINE resources instead, as so:</li>\\n\"+\n",
       "     \"</ul>\\n\"+\n",
       "     \"<code>\\n\"+\n",
       "     \"from bokeh.resources import INLINE\\n\"+\n",
       "     \"output_notebook(resources=INLINE)\\n\"+\n",
       "     \"</code>\\n\"+\n",
       "     \"</div>\"}};\n",
       "\n",
       "  function display_loaded() {\n",
       "    if (window.Bokeh !== undefined) {\n",
       "      document.getElementById(\"fc7a3a4a-b784-4914-a020-9baeb9281167\").textContent = \"BokehJS successfully loaded.\";\n",
       "    } else if (Date.now() < window._bokeh_timeout) {\n",
       "      setTimeout(display_loaded, 100)\n",
       "    }\n",
       "  }\n",
       "\n",
       "  function run_callbacks() {\n",
       "    window._bokeh_onload_callbacks.forEach(function(callback) { callback() });\n",
       "    delete window._bokeh_onload_callbacks\n",
       "    console.info(\"Bokeh: all callbacks have finished\");\n",
       "  }\n",
       "\n",
       "  function load_libs(js_urls, callback) {\n",
       "    window._bokeh_onload_callbacks.push(callback);\n",
       "    if (window._bokeh_is_loading > 0) {\n",
       "      console.log(\"Bokeh: BokehJS is being loaded, scheduling callback at\", now());\n",
       "      return null;\n",
       "    }\n",
       "    if (js_urls == null || js_urls.length === 0) {\n",
       "      run_callbacks();\n",
       "      return null;\n",
       "    }\n",
       "    console.log(\"Bokeh: BokehJS not loaded, scheduling load and callback at\", now());\n",
       "    window._bokeh_is_loading = js_urls.length;\n",
       "    for (var i = 0; i < js_urls.length; i++) {\n",
       "      var url = js_urls[i];\n",
       "      var s = document.createElement('script');\n",
       "      s.src = url;\n",
       "      s.async = false;\n",
       "      s.onreadystatechange = s.onload = function() {\n",
       "        window._bokeh_is_loading--;\n",
       "        if (window._bokeh_is_loading === 0) {\n",
       "          console.log(\"Bokeh: all BokehJS libraries loaded\");\n",
       "          run_callbacks()\n",
       "        }\n",
       "      };\n",
       "      s.onerror = function() {\n",
       "        console.warn(\"failed to load library \" + url);\n",
       "      };\n",
       "      console.log(\"Bokeh: injecting script tag for BokehJS library: \", url);\n",
       "      document.getElementsByTagName(\"head\")[0].appendChild(s);\n",
       "    }\n",
       "  };var element = document.getElementById(\"fc7a3a4a-b784-4914-a020-9baeb9281167\");\n",
       "  if (element == null) {\n",
       "    console.log(\"Bokeh: ERROR: autoload.js configured with elementid 'fc7a3a4a-b784-4914-a020-9baeb9281167' but no matching script tag was found. \")\n",
       "    return false;\n",
       "  }\n",
       "\n",
       "  var js_urls = [\"https://cdn.pydata.org/bokeh/release/bokeh-0.12.4.min.js\", \"https://cdn.pydata.org/bokeh/release/bokeh-widgets-0.12.4.min.js\"];\n",
       "\n",
       "  var inline_js = [\n",
       "    function(Bokeh) {\n",
       "      Bokeh.set_log_level(\"info\");\n",
       "    },\n",
       "    \n",
       "    function(Bokeh) {\n",
       "      \n",
       "      document.getElementById(\"fc7a3a4a-b784-4914-a020-9baeb9281167\").textContent = \"BokehJS is loading...\";\n",
       "    },\n",
       "    function(Bokeh) {\n",
       "      console.log(\"Bokeh: injecting CSS: https://cdn.pydata.org/bokeh/release/bokeh-0.12.4.min.css\");\n",
       "      Bokeh.embed.inject_css(\"https://cdn.pydata.org/bokeh/release/bokeh-0.12.4.min.css\");\n",
       "      console.log(\"Bokeh: injecting CSS: https://cdn.pydata.org/bokeh/release/bokeh-widgets-0.12.4.min.css\");\n",
       "      Bokeh.embed.inject_css(\"https://cdn.pydata.org/bokeh/release/bokeh-widgets-0.12.4.min.css\");\n",
       "    }\n",
       "  ];\n",
       "\n",
       "  function run_inline_js() {\n",
       "    \n",
       "    if ((window.Bokeh !== undefined) || (force === true)) {\n",
       "      for (var i = 0; i < inline_js.length; i++) {\n",
       "        inline_js[i](window.Bokeh);\n",
       "      }if (force === true) {\n",
       "        display_loaded();\n",
       "      }} else if (Date.now() < window._bokeh_timeout) {\n",
       "      setTimeout(run_inline_js, 100);\n",
       "    } else if (!window._bokeh_failed_load) {\n",
       "      console.log(\"Bokeh: BokehJS failed to load within specified timeout.\");\n",
       "      window._bokeh_failed_load = true;\n",
       "    } else if (force !== true) {\n",
       "      var cell = $(document.getElementById(\"fc7a3a4a-b784-4914-a020-9baeb9281167\")).parents('.cell').data().cell;\n",
       "      cell.output_area.append_execute_result(NB_LOAD_WARNING)\n",
       "    }\n",
       "\n",
       "  }\n",
       "\n",
       "  if (window._bokeh_is_loading === 0) {\n",
       "    console.log(\"Bokeh: BokehJS loaded, going straight to plotting\");\n",
       "    run_inline_js();\n",
       "  } else {\n",
       "    load_libs(js_urls, function() {\n",
       "      console.log(\"Bokeh: BokehJS plotting callback run at\", now());\n",
       "      run_inline_js();\n",
       "    });\n",
       "  }\n",
       "}(this));"
      ]
     },
     "metadata": {},
     "output_type": "display_data"
    }
   ],
   "source": [
    "output_notebook()"
   ]
  },
  {
   "cell_type": "code",
   "execution_count": 5,
   "metadata": {
    "collapsed": false
   },
   "outputs": [
    {
     "data": {
      "text/plain": [
       "0.82496084729018926"
      ]
     },
     "execution_count": 5,
     "metadata": {},
     "output_type": "execute_result"
    }
   ],
   "source": [
    "data['z'].iloc[0]"
   ]
  },
  {
   "cell_type": "code",
   "execution_count": 6,
   "metadata": {
    "collapsed": false
   },
   "outputs": [],
   "source": [
    "source = ColumnDataSource(data=dict(x=data['x'], y=data['y'], z=data['z'], tid=data['id']))"
   ]
  },
  {
   "cell_type": "code",
   "execution_count": 17,
   "metadata": {
    "collapsed": false
   },
   "outputs": [],
   "source": [
    "hover = HoverTool(tooltips=[('z',\"@z\"),('id','@tid')])"
   ]
  },
  {
   "cell_type": "code",
   "execution_count": 18,
   "metadata": {
    "collapsed": true
   },
   "outputs": [],
   "source": [
    "p = figure(tools=[hover])"
   ]
  },
  {
   "cell_type": "code",
   "execution_count": 19,
   "metadata": {
    "collapsed": false
   },
   "outputs": [],
   "source": [
    "renderer = p.circle('x','y', source = source)"
   ]
  },
  {
   "cell_type": "code",
   "execution_count": 27,
   "metadata": {
    "collapsed": true
   },
   "outputs": [],
   "source": [
    "selected_list = []"
   ]
  },
  {
   "cell_type": "code",
   "execution_count": 28,
   "metadata": {
    "collapsed": false
   },
   "outputs": [],
   "source": [
    "source.callback = CustomJS(code=\"\"\"\n",
    "var selected = cb_obj.data;\n",
    "selected_list.append(selected);\n",
    "source.trigger('change');\n",
    "\"\"\")"
   ]
  },
  {
   "cell_type": "code",
   "execution_count": 29,
   "metadata": {
    "collapsed": false
   },
   "outputs": [
    {
     "name": "stdout",
     "output_type": "stream",
     "text": [
      "None\n"
     ]
    }
   ],
   "source": [
    "print(renderer.selection_glyph)"
   ]
  },
  {
   "cell_type": "code",
   "execution_count": 30,
   "metadata": {
    "collapsed": false
   },
   "outputs": [
    {
     "data": {
      "text/html": [
       "\n",
       "\n",
       "    <div class=\"bk-root\">\n",
       "        <div class=\"bk-plotdiv\" id=\"be6b1838-0e72-4e25-a753-ac2031ce791e\"></div>\n",
       "    </div>\n",
       "<script type=\"text/javascript\">\n",
       "  \n",
       "  (function(global) {\n",
       "    function now() {\n",
       "      return new Date();\n",
       "    }\n",
       "  \n",
       "    var force = false;\n",
       "  \n",
       "    if (typeof (window._bokeh_onload_callbacks) === \"undefined\" || force === true) {\n",
       "      window._bokeh_onload_callbacks = [];\n",
       "      window._bokeh_is_loading = undefined;\n",
       "    }\n",
       "  \n",
       "  \n",
       "    \n",
       "    if (typeof (window._bokeh_timeout) === \"undefined\" || force === true) {\n",
       "      window._bokeh_timeout = Date.now() + 0;\n",
       "      window._bokeh_failed_load = false;\n",
       "    }\n",
       "  \n",
       "    var NB_LOAD_WARNING = {'data': {'text/html':\n",
       "       \"<div style='background-color: #fdd'>\\n\"+\n",
       "       \"<p>\\n\"+\n",
       "       \"BokehJS does not appear to have successfully loaded. If loading BokehJS from CDN, this \\n\"+\n",
       "       \"may be due to a slow or bad network connection. Possible fixes:\\n\"+\n",
       "       \"</p>\\n\"+\n",
       "       \"<ul>\\n\"+\n",
       "       \"<li>re-rerun `output_notebook()` to attempt to load from CDN again, or</li>\\n\"+\n",
       "       \"<li>use INLINE resources instead, as so:</li>\\n\"+\n",
       "       \"</ul>\\n\"+\n",
       "       \"<code>\\n\"+\n",
       "       \"from bokeh.resources import INLINE\\n\"+\n",
       "       \"output_notebook(resources=INLINE)\\n\"+\n",
       "       \"</code>\\n\"+\n",
       "       \"</div>\"}};\n",
       "  \n",
       "    function display_loaded() {\n",
       "      if (window.Bokeh !== undefined) {\n",
       "        document.getElementById(\"be6b1838-0e72-4e25-a753-ac2031ce791e\").textContent = \"BokehJS successfully loaded.\";\n",
       "      } else if (Date.now() < window._bokeh_timeout) {\n",
       "        setTimeout(display_loaded, 100)\n",
       "      }\n",
       "    }\n",
       "  \n",
       "    function run_callbacks() {\n",
       "      window._bokeh_onload_callbacks.forEach(function(callback) { callback() });\n",
       "      delete window._bokeh_onload_callbacks\n",
       "      console.info(\"Bokeh: all callbacks have finished\");\n",
       "    }\n",
       "  \n",
       "    function load_libs(js_urls, callback) {\n",
       "      window._bokeh_onload_callbacks.push(callback);\n",
       "      if (window._bokeh_is_loading > 0) {\n",
       "        console.log(\"Bokeh: BokehJS is being loaded, scheduling callback at\", now());\n",
       "        return null;\n",
       "      }\n",
       "      if (js_urls == null || js_urls.length === 0) {\n",
       "        run_callbacks();\n",
       "        return null;\n",
       "      }\n",
       "      console.log(\"Bokeh: BokehJS not loaded, scheduling load and callback at\", now());\n",
       "      window._bokeh_is_loading = js_urls.length;\n",
       "      for (var i = 0; i < js_urls.length; i++) {\n",
       "        var url = js_urls[i];\n",
       "        var s = document.createElement('script');\n",
       "        s.src = url;\n",
       "        s.async = false;\n",
       "        s.onreadystatechange = s.onload = function() {\n",
       "          window._bokeh_is_loading--;\n",
       "          if (window._bokeh_is_loading === 0) {\n",
       "            console.log(\"Bokeh: all BokehJS libraries loaded\");\n",
       "            run_callbacks()\n",
       "          }\n",
       "        };\n",
       "        s.onerror = function() {\n",
       "          console.warn(\"failed to load library \" + url);\n",
       "        };\n",
       "        console.log(\"Bokeh: injecting script tag for BokehJS library: \", url);\n",
       "        document.getElementsByTagName(\"head\")[0].appendChild(s);\n",
       "      }\n",
       "    };var element = document.getElementById(\"be6b1838-0e72-4e25-a753-ac2031ce791e\");\n",
       "    if (element == null) {\n",
       "      console.log(\"Bokeh: ERROR: autoload.js configured with elementid 'be6b1838-0e72-4e25-a753-ac2031ce791e' but no matching script tag was found. \")\n",
       "      return false;\n",
       "    }\n",
       "  \n",
       "    var js_urls = [];\n",
       "  \n",
       "    var inline_js = [\n",
       "      function(Bokeh) {\n",
       "        (function() {\n",
       "          var fn = function() {\n",
       "            var docs_json = {\"3246fb1f-4345-4487-97c2-30595f2f07a8\":{\"roots\":{\"references\":[{\"attributes\":{\"callback\":null},\"id\":\"b23d1363-cdb0-4521-a6df-5930d461ab66\",\"type\":\"DataRange1d\"},{\"attributes\":{\"fill_color\":{\"value\":\"#1f77b4\"},\"line_color\":{\"value\":\"#1f77b4\"},\"x\":{\"field\":\"x\"},\"y\":{\"field\":\"y\"}},\"id\":\"f779827f-5dc2-4fa7-a5f8-b71cc7ae5cfd\",\"type\":\"Circle\"},{\"attributes\":{\"formatter\":{\"id\":\"8fb1f3e9-e433-45c2-8362-662a9cd5fef9\",\"type\":\"BasicTickFormatter\"},\"plot\":{\"id\":\"8d12c415-f4c4-43b2-80b6-a3016b7abf0d\",\"subtype\":\"Figure\",\"type\":\"Plot\"},\"ticker\":{\"id\":\"2245f858-93e3-4322-9ea0-0123d9a6e221\",\"type\":\"BasicTicker\"}},\"id\":\"ed06d617-4b0c-42b6-b7e9-11103927c020\",\"type\":\"LinearAxis\"},{\"attributes\":{},\"id\":\"86ba526a-cf96-4c96-97e4-9cdc58afb529\",\"type\":\"ToolEvents\"},{\"attributes\":{},\"id\":\"2245f858-93e3-4322-9ea0-0123d9a6e221\",\"type\":\"BasicTicker\"},{\"attributes\":{\"formatter\":{\"id\":\"b0b3ab92-cc69-48e8-a81e-08053e2a213f\",\"type\":\"BasicTickFormatter\"},\"plot\":{\"id\":\"8d12c415-f4c4-43b2-80b6-a3016b7abf0d\",\"subtype\":\"Figure\",\"type\":\"Plot\"},\"ticker\":{\"id\":\"b82dc74b-5601-4e6c-a215-f6c4737a6db0\",\"type\":\"BasicTicker\"}},\"id\":\"69984ef4-8570-4291-b1fc-eab1b1321ac5\",\"type\":\"LinearAxis\"},{\"attributes\":{\"callback\":{\"id\":\"5dbc738a-87bb-4ecc-832f-15776a34936f\",\"type\":\"CustomJS\"},\"column_names\":[\"y\",\"x\",\"tid\",\"z\"],\"data\":{\"tid\":[0,1,2,3,4,5,6,7,8,9,10,11,12,13,14,15,16,17,18,19,20,21,22,23,24,25,26,27,28,29,30,31,32,33,34,35,36,37,38,39,40,41,42,43,44,45,46,47,48,49,50,51,52,53,54,55,56,57,58,59,60,61,62,63,64,65,66,67,68,69,70,71,72,73,74,75,76,77,78,79,80,81,82,83,84,85,86,87,88,89,90,91,92,93,94,95,96,97,98,99],\"x\":{\"__ndarray__\":\"7X1J7DdG6j8aaP585mPqPyC/Wtiz39E/zA8/k/2H0j8EGY+wp/nMP0AYLpwqS7Y/UMpcYifA2T/E+77nzQnuPy3wfICQNuc/oDkJhsmanT8JqLhOfGnsP2w+ekJZJe0/miUlE9CP6z/SPDwOVKPdP4C9UPAL+9I/MAObnV3Arj82ND4Hs3XQP9VXxDD0N+I/oOECYBdvoz9YWv0q+jXCP4BF5K7wxYM/eq666FwZ4T/8Qo9tgXDDPxo+Y5XLbNU/gIqupHff0z8IB5D2PTzYP6AOW+UuKLM/pi9uGZhg7T88rfKxIgzSP7ts4qL41eA/p/PITyI37T8MThfLGO/WPxbX9Ypvb+8/vjpLM6hK2D8w5mfe5IXTP+4VJc1dceU/ylY6B0FK5T847+B7cP+1P5CDglhDfro/yCodJAbm6D/56Rb7muPoPzRbSp3y2eU/lgs6m4BO0j/g9rJO5WmXP9WJqQ59ieg/wDQdY0tPqj8Nu7G9L0XmP1h8Uejv/No/ow2st5iY7T8NIThAsyrkP/tEEiMNT+E/oGH+aSo+zT80h8U7gybBP1eKOcmGN+A/2GFDQXwo3D8+SA1l2hHrP/hsxGvWSMs/FiTcIg/l0T9K+G4FD4PRP3NMsA0n4eA/oEyvehkHzD/P/gIhumvmP2TrEa9oosk/dRLtEzMP5z9kvLVCo9DKP+RnmS+S9uA/oGjc8X0irD8IqzWPl4rUP/5lR7TIMNo/UqL82j6/2T8/HsVVNxzgPxydR6GaMss/eEk3lJNBwT+zmAF1DgjtP1Sj2uBUxMU/kT3QpoLR7z8SGRF2KL3vPwyevGzGnMM/EzgNB9TO4T8902Vv5PfrP3b1OYH00eE/aFWgWiq95D96+V2H49PYPzOFVZXWZu8/QOdAKXBaxz8w0cmayuG7P61M63tvReM/fPa7G2pz0D+g2hNnuJmlP7Snn+giU9Y/XMqGsL663j+rK+CTuVTvPxEqrBpVAOc/ON/eyR2O5T9iXW59/+/qP4VvO5eMKeU/+VCajCY14j+wzgva2q/CP3zejztkZeA/iKpRY2txwD8=\",\"dtype\":\"float64\",\"shape\":[100]},\"y\":{\"__ndarray__\":\"KIN8So6Q4T+IXI6pbjvvP4QscjZ+jcY/9oisFZCy3j+uK8hyUVndP7g5cX/SDtI/otRMKbUx7T/6IrnM8hbiP0xVa/ITP+s/wKvS6yEmjz9NT1MIiMHqP3UNPjMuwec/8nhXYJqk7T/CIpr23afQPx4uA6PtPdo/IfmhRTIN4D/wpgSiaXS4P46qsQA3edY/ijY8uzUW0D8QKiGc9rzDP8o67lxxw+0/SQmPjoa17T+Yu9cuzDbrPyDSGnrN35w/Fv+txZfh3D9gWJjhJ/aTPyC3TD/j7r0/iHzTibEO4D/EB6SbKk7YP0bX11O8FNE/47FuoQ7M4j/BeB2KrXjmP5A63lPMv94/6cDlgFYa4T9AskI2rmHeP+oUbZqbPOA/+Une270O6T9KW/EyOd/nP7KKIcIuJNU/8POOZXF3uj9G+k51VBXqP4bPE2VHuOM/GHq6q9bY7j/pjkf/Pg7tP1LzsDbsGu4/CNW42OSI3D9ooEKMAxiwP1yahS40tOQ/CdEvCs5P4D8rt6S+wbXlP9Hg3Z2/c+o/SlSrKn9L2T8NkbLW1ELmPyh2U3RH0Ns/jJ9aeMHq4j8EJErA7kjmPxhnWFve8Mo/iAVeZ1EivT94LbcVvdvZPyzo7TKMUeI/2GHbKOetxj+VDcdZSUzgPwj6Mjkzhuw/QtG9d/Mp4T/ixUjkkOjvP1q6/KcYqOA/0tXCvesN3D+5YXH90+zrPwOl6e55h+c/5y4itzxp5z88qJd2SgjlP1XSBUZu6eU/gMQ1VmEb2D9WK/gbnSjiP/CtJwjGnak/elOeK/+P5j9MnrD3sHzCP4agkAPTOtU/AGaEKk+muz+p+Ox7ZTniP1hQ2+NVjdg/B4rJGReC7T+6hanUWF/XPy8TxtSiYuo/GSrw3Q4b7T/pM5nw1FbnPwKDWdvAWtM/sNGe7nOhyT9QSo6oTULuP4Snjagh+sc/0rbJ/YB27T/UppSo2PLMP1qYgiEfStY/wOffpmv6oj9QZ8o3i0+lP2RmckbG4Og/qvjunjzr0T/RyaA3rOHrPwjxjttWmOI/QM4QZbTy6T8=\",\"dtype\":\"float64\",\"shape\":[100]},\"z\":{\"__ndarray__\":\"IvByShRm6j8UZ0777RHdP2B5SfGRpKE/8/OWRLcM5D+D9EucjlHuP++Ju2tM8O4/bx0fd2Lz4D9XdPKQQgrsP9JKUwXpuuQ/3GmyF5lgwj9KifsdjWvsP1UNzljI1OM/UioB794E4D+Ie6ziSQDLP9/WJJAu4+k/tZ3ktSDB5j/DrVUbnV/nP2n0WUsD1Os/NJ32CBMU4D/GESqrgdDnP1WnYqDLhug/tX8NELXn7D9fC5164tHtPxQhYEFgkeM/4Ktz32rLoz/BarYM1AfkP4A8+xv/Je4/9AExI++T7D9cJoPfLRvRPxrsy/7DnNE/2s0wj9e95z+4sU7GPQjIPx6Jr+WmhdE/cMJEYFjP0D/gG64RUs3FP8AX8E0sZ44/4+MMFEzz7j+wLZctbuOoP+Fr95rJjOw/px9zKKLI6D+QPxVlsunNPziNPYUErO4/ctJedl/I0D+6fXi3pKfTP5HwVJ6J+O0/Q0g/Z8rq4T++DKHFr6/fP6jvUOKTRcU/kY/RXyM24j+0BPMSGEbtPwAJEheirMs/IHSoWoAzqD+wdXDq2xvHPyCH1er4/5Y/cyR/pFFF4T8LjomZdpvrP9ikS3PhwN4/dKGG1yZw4D+OxvpPWrDUP2h4Wy6d+s4/4JpO25lqsj8wuZIjzoW/P841KSfxoOg/ucjKgiIy4T/L0i1fxFflP378ibUELe4/EBJImLWovz/pLIIWoj7qP1qMCkZP6tc/MIk/OxaCyj9/CGdPcjjqP6Eg2sFzauM/TbS2xPIs7T/ftZpTjYTgP4TeypTD4e8/4aZoDiyY4z/YLL1F/XbQP+YcE9LaNtY/6Dd1OkNh0D/84y2GLiXtP2ymG98yxNo/hTgZo4157j8yeYfuIvviP6nrCiR6JeY/7j21nIaH0z+PjI0D8NftPwqxcv/ZQtM/QAgNfQsYqj86WsPzm6zlP6dL1atj7uc/aHHlRndMtT9aBlbGyqLcP3gcVfXhZcY/HubThfhc1z9g3PtTg8amPwC+utxsXcc/HjNTksEW4D/w+mH0/4DvP2/naY1R9e4/eMtsd3vK3j8=\",\"dtype\":\"float64\",\"shape\":[100]}}},\"id\":\"39d4bf46-f387-4393-be8f-aec03eddc1aa\",\"type\":\"ColumnDataSource\"},{\"attributes\":{},\"id\":\"b82dc74b-5601-4e6c-a215-f6c4737a6db0\",\"type\":\"BasicTicker\"},{\"attributes\":{\"active_drag\":\"auto\",\"active_scroll\":\"auto\",\"active_tap\":\"auto\",\"tools\":[{\"id\":\"406db26f-1e01-4a90-b630-92d87fc31c80\",\"type\":\"HoverTool\"}]},\"id\":\"f8d4c1e0-fec7-4941-806d-fa3c65fe6c79\",\"type\":\"Toolbar\"},{\"attributes\":{\"plot\":null,\"text\":\"\"},\"id\":\"d8f4efc5-031c-4c6d-9c3b-8307ff25ccd4\",\"type\":\"Title\"},{\"attributes\":{\"fill_alpha\":{\"value\":0.1},\"fill_color\":{\"value\":\"#1f77b4\"},\"line_alpha\":{\"value\":0.1},\"line_color\":{\"value\":\"#1f77b4\"},\"x\":{\"field\":\"x\"},\"y\":{\"field\":\"y\"}},\"id\":\"6e5976ca-c2f1-4eee-9020-5eccf9a81b8b\",\"type\":\"Circle\"},{\"attributes\":{\"below\":[{\"id\":\"69984ef4-8570-4291-b1fc-eab1b1321ac5\",\"type\":\"LinearAxis\"}],\"left\":[{\"id\":\"ed06d617-4b0c-42b6-b7e9-11103927c020\",\"type\":\"LinearAxis\"}],\"renderers\":[{\"id\":\"69984ef4-8570-4291-b1fc-eab1b1321ac5\",\"type\":\"LinearAxis\"},{\"id\":\"9311bd50-05bb-4814-b311-2fd035ca39b9\",\"type\":\"Grid\"},{\"id\":\"ed06d617-4b0c-42b6-b7e9-11103927c020\",\"type\":\"LinearAxis\"},{\"id\":\"a7754402-40d8-4797-986c-6e5be6af61ff\",\"type\":\"Grid\"},{\"id\":\"ebbb5b61-488c-476a-88c1-51e770e431b2\",\"type\":\"GlyphRenderer\"}],\"title\":{\"id\":\"d8f4efc5-031c-4c6d-9c3b-8307ff25ccd4\",\"type\":\"Title\"},\"tool_events\":{\"id\":\"86ba526a-cf96-4c96-97e4-9cdc58afb529\",\"type\":\"ToolEvents\"},\"toolbar\":{\"id\":\"f8d4c1e0-fec7-4941-806d-fa3c65fe6c79\",\"type\":\"Toolbar\"},\"x_range\":{\"id\":\"0be883f6-b2b1-456d-ad68-9d98752fa181\",\"type\":\"DataRange1d\"},\"y_range\":{\"id\":\"b23d1363-cdb0-4521-a6df-5930d461ab66\",\"type\":\"DataRange1d\"}},\"id\":\"8d12c415-f4c4-43b2-80b6-a3016b7abf0d\",\"subtype\":\"Figure\",\"type\":\"Plot\"},{\"attributes\":{\"data_source\":{\"id\":\"39d4bf46-f387-4393-be8f-aec03eddc1aa\",\"type\":\"ColumnDataSource\"},\"glyph\":{\"id\":\"f779827f-5dc2-4fa7-a5f8-b71cc7ae5cfd\",\"type\":\"Circle\"},\"hover_glyph\":null,\"nonselection_glyph\":{\"id\":\"6e5976ca-c2f1-4eee-9020-5eccf9a81b8b\",\"type\":\"Circle\"},\"selection_glyph\":null},\"id\":\"ebbb5b61-488c-476a-88c1-51e770e431b2\",\"type\":\"GlyphRenderer\"},{\"attributes\":{\"callback\":null},\"id\":\"0be883f6-b2b1-456d-ad68-9d98752fa181\",\"type\":\"DataRange1d\"},{\"attributes\":{},\"id\":\"8fb1f3e9-e433-45c2-8362-662a9cd5fef9\",\"type\":\"BasicTickFormatter\"},{\"attributes\":{\"dimension\":1,\"plot\":{\"id\":\"8d12c415-f4c4-43b2-80b6-a3016b7abf0d\",\"subtype\":\"Figure\",\"type\":\"Plot\"},\"ticker\":{\"id\":\"2245f858-93e3-4322-9ea0-0123d9a6e221\",\"type\":\"BasicTicker\"}},\"id\":\"a7754402-40d8-4797-986c-6e5be6af61ff\",\"type\":\"Grid\"},{\"attributes\":{},\"id\":\"b0b3ab92-cc69-48e8-a81e-08053e2a213f\",\"type\":\"BasicTickFormatter\"},{\"attributes\":{\"callback\":null,\"plot\":{\"id\":\"8d12c415-f4c4-43b2-80b6-a3016b7abf0d\",\"subtype\":\"Figure\",\"type\":\"Plot\"},\"tooltips\":[[\"z\",\"@z\"],[\"id\",\"@tid\"]]},\"id\":\"406db26f-1e01-4a90-b630-92d87fc31c80\",\"type\":\"HoverTool\"},{\"attributes\":{\"plot\":{\"id\":\"8d12c415-f4c4-43b2-80b6-a3016b7abf0d\",\"subtype\":\"Figure\",\"type\":\"Plot\"},\"ticker\":{\"id\":\"b82dc74b-5601-4e6c-a215-f6c4737a6db0\",\"type\":\"BasicTicker\"}},\"id\":\"9311bd50-05bb-4814-b311-2fd035ca39b9\",\"type\":\"Grid\"},{\"attributes\":{\"code\":\"\\nvar selected = cb_obj.data\\nselected_list.append(selected)\\n\"},\"id\":\"5dbc738a-87bb-4ecc-832f-15776a34936f\",\"type\":\"CustomJS\"}],\"root_ids\":[\"8d12c415-f4c4-43b2-80b6-a3016b7abf0d\"]},\"title\":\"Bokeh Application\",\"version\":\"0.12.4\"}};\n",
       "            var render_items = [{\"docid\":\"3246fb1f-4345-4487-97c2-30595f2f07a8\",\"elementid\":\"be6b1838-0e72-4e25-a753-ac2031ce791e\",\"modelid\":\"8d12c415-f4c4-43b2-80b6-a3016b7abf0d\"}];\n",
       "            \n",
       "            Bokeh.embed.embed_items(docs_json, render_items);\n",
       "          };\n",
       "          if (document.readyState != \"loading\") fn();\n",
       "          else document.addEventListener(\"DOMContentLoaded\", fn);\n",
       "        })();\n",
       "      },\n",
       "      function(Bokeh) {\n",
       "      }\n",
       "    ];\n",
       "  \n",
       "    function run_inline_js() {\n",
       "      \n",
       "      if ((window.Bokeh !== undefined) || (force === true)) {\n",
       "        for (var i = 0; i < inline_js.length; i++) {\n",
       "          inline_js[i](window.Bokeh);\n",
       "        }if (force === true) {\n",
       "          display_loaded();\n",
       "        }} else if (Date.now() < window._bokeh_timeout) {\n",
       "        setTimeout(run_inline_js, 100);\n",
       "      } else if (!window._bokeh_failed_load) {\n",
       "        console.log(\"Bokeh: BokehJS failed to load within specified timeout.\");\n",
       "        window._bokeh_failed_load = true;\n",
       "      } else if (force !== true) {\n",
       "        var cell = $(document.getElementById(\"be6b1838-0e72-4e25-a753-ac2031ce791e\")).parents('.cell').data().cell;\n",
       "        cell.output_area.append_execute_result(NB_LOAD_WARNING)\n",
       "      }\n",
       "  \n",
       "    }\n",
       "  \n",
       "    if (window._bokeh_is_loading === 0) {\n",
       "      console.log(\"Bokeh: BokehJS loaded, going straight to plotting\");\n",
       "      run_inline_js();\n",
       "    } else {\n",
       "      load_libs(js_urls, function() {\n",
       "        console.log(\"Bokeh: BokehJS plotting callback run at\", now());\n",
       "        run_inline_js();\n",
       "      });\n",
       "    }\n",
       "  }(this));\n",
       "</script>"
      ]
     },
     "metadata": {},
     "output_type": "display_data"
    }
   ],
   "source": [
    "show(p)"
   ]
  },
  {
   "cell_type": "code",
   "execution_count": 31,
   "metadata": {
    "collapsed": false
   },
   "outputs": [
    {
     "data": {
      "text/plain": [
       "[]"
      ]
     },
     "execution_count": 31,
     "metadata": {},
     "output_type": "execute_result"
    }
   ],
   "source": [
    "selected_list"
   ]
  },
  {
   "cell_type": "code",
   "execution_count": null,
   "metadata": {
    "collapsed": true
   },
   "outputs": [],
   "source": []
  },
  {
   "cell_type": "code",
   "execution_count": null,
   "metadata": {
    "collapsed": false
   },
   "outputs": [],
   "source": [
    "data"
   ]
  },
  {
   "cell_type": "code",
   "execution_count": null,
   "metadata": {
    "collapsed": true
   },
   "outputs": [],
   "source": []
  }
 ],
 "metadata": {
  "anaconda-cloud": {},
  "kernelspec": {
   "display_name": "Python [Root]",
   "language": "python",
   "name": "Python [Root]"
  },
  "language_info": {
   "codemirror_mode": {
    "name": "ipython",
    "version": 3
   },
   "file_extension": ".py",
   "mimetype": "text/x-python",
   "name": "python",
   "nbconvert_exporter": "python",
   "pygments_lexer": "ipython3",
   "version": "3.5.2"
  }
 },
 "nbformat": 4,
 "nbformat_minor": 0
}
