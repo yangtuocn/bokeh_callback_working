{
 "cells": [
  {
   "cell_type": "code",
   "execution_count": 1,
   "metadata": {
    "collapsed": true
   },
   "outputs": [],
   "source": [
    "from requests_oauthlib import OAuth1\n",
    "import simplejson as json\n",
    "import requests"
   ]
  },
  {
   "cell_type": "code",
   "execution_count": 2,
   "metadata": {
    "collapsed": false
   },
   "outputs": [],
   "source": [
    "with(open('config.txt','r')) as config:\n",
    "    secrets = json.loads(config.read())"
   ]
  },
  {
   "cell_type": "code",
   "execution_count": 3,
   "metadata": {
    "collapsed": true
   },
   "outputs": [],
   "source": [
    "auth = OAuth1(\n",
    "    secrets[\"api_key\"],\n",
    "    secrets[\"api_secret\"],\n",
    "    secrets[\"access_token\"],\n",
    "    secrets[\"access_token_secret\"]\n",
    ")"
   ]
  },
  {
   "cell_type": "code",
   "execution_count": null,
   "metadata": {
    "collapsed": true
   },
   "outputs": [],
   "source": [
    "r_newyork = requests.get(\"https://api.twitter.com/1.1/search/tweets.json\",\n",
    "                auth = auth,\n",
    "                params={'q':'New York', 'count':'100'})"
   ]
  },
  {
   "cell_type": "code",
   "execution_count": null,
   "metadata": {
    "collapsed": true
   },
   "outputs": [],
   "source": [
    "r_losangeles = requests.get(\"https://api.twitter.com/1.1/search/tweets.json\",\n",
    "                auth = auth,\n",
    "                params={'q':'Los Angeles', 'count':'100'})"
   ]
  },
  {
   "cell_type": "code",
   "execution_count": null,
   "metadata": {
    "collapsed": false
   },
   "outputs": [],
   "source": [
    "r_newyork.json()['search_metadata']"
   ]
  },
  {
   "cell_type": "code",
   "execution_count": null,
   "metadata": {
    "collapsed": false
   },
   "outputs": [],
   "source": [
    "len(r_newyork.json()['statuses'])"
   ]
  },
  {
   "cell_type": "code",
   "execution_count": null,
   "metadata": {
    "collapsed": false
   },
   "outputs": [],
   "source": [
    "r_losangeles.json()['search_metadata']"
   ]
  },
  {
   "cell_type": "code",
   "execution_count": null,
   "metadata": {
    "collapsed": false
   },
   "outputs": [],
   "source": [
    "len(r_losangeles.json()['statuses'])"
   ]
  },
  {
   "cell_type": "code",
   "execution_count": null,
   "metadata": {
    "collapsed": true
   },
   "outputs": [],
   "source": [
    "tweet_list = r.json()['statuses']"
   ]
  },
  {
   "cell_type": "code",
   "execution_count": null,
   "metadata": {
    "collapsed": false
   },
   "outputs": [],
   "source": [
    "with open('tweets.txt','w',encoding='utf-8') as tweet_file:\n",
    "    tweet_file.write(json.dumps(r_newyork.json(), ensure_ascii=False))\n",
    "    tweet_file.write('\\n')"
   ]
  },
  {
   "cell_type": "code",
   "execution_count": null,
   "metadata": {
    "collapsed": true
   },
   "outputs": [],
   "source": [
    "with open('tweets.txt','a',encoding='utf-8') as tweet_file:\n",
    "    tweet_file.write(json.dumps(r_losangeles.json(), ensure_ascii=False))\n",
    "    tweet_file.write('\\n')"
   ]
  },
  {
   "cell_type": "code",
   "execution_count": 4,
   "metadata": {
    "collapsed": false
   },
   "outputs": [],
   "source": [
    "test_data=[]\n",
    "with open('tweets.txt','r',encoding='utf-8') as tweet_file:\n",
    "    for line in tweet_file:\n",
    "        test_data.append(json.loads(line))"
   ]
  },
  {
   "cell_type": "code",
   "execution_count": 6,
   "metadata": {
    "collapsed": false
   },
   "outputs": [
    {
     "data": {
      "text/plain": [
       "100"
      ]
     },
     "execution_count": 6,
     "metadata": {},
     "output_type": "execute_result"
    }
   ],
   "source": [
    "len(test_data[1]['statuses'])"
   ]
  },
  {
   "cell_type": "code",
   "execution_count": 8,
   "metadata": {
    "collapsed": false
   },
   "outputs": [
    {
     "data": {
      "text/plain": [
       "'848733480586489857'"
      ]
     },
     "execution_count": 8,
     "metadata": {},
     "output_type": "execute_result"
    }
   ],
   "source": [
    "test_data[0]['statuses'][0]['id_str']"
   ]
  },
  {
   "cell_type": "code",
   "execution_count": 16,
   "metadata": {
    "collapsed": false
   },
   "outputs": [
    {
     "data": {
      "text/plain": [
       "'58143075'"
      ]
     },
     "execution_count": 16,
     "metadata": {},
     "output_type": "execute_result"
    }
   ],
   "source": [
    "test_data[0]['statuses'][0]['user']['id_str']"
   ]
  },
  {
   "cell_type": "code",
   "execution_count": 9,
   "metadata": {
    "collapsed": true
   },
   "outputs": [],
   "source": [
    "embed_code = requests.get('https://api.twitter.com/1.1/statuses/oembed.json?',\n",
    "                         auth=auth,\n",
    "                         params={'id':test_data[0]['statuses'][0]['id_str']})"
   ]
  },
  {
   "cell_type": "code",
   "execution_count": 24,
   "metadata": {
    "collapsed": false
   },
   "outputs": [
    {
     "data": {
      "text/plain": [
       "{'author_name': 'mack moore',\n",
       " 'author_url': 'https://twitter.com/candidmack',\n",
       " 'cache_age': '3153600000',\n",
       " 'height': None,\n",
       " 'html': '<blockquote class=\"twitter-tweet\"><p lang=\"en\" dir=\"ltr\">holy shit!!!!!!!<br>I love New York.</p>&mdash; mack moore (@candidmack) <a href=\"https://twitter.com/candidmack/status/848733480586489857\">April 3, 2017</a></blockquote>\\n<script async src=\"//platform.twitter.com/widgets.js\" charset=\"utf-8\"></script>',\n",
       " 'provider_name': 'Twitter',\n",
       " 'provider_url': 'https://twitter.com',\n",
       " 'type': 'rich',\n",
       " 'url': 'https://twitter.com/candidmack/status/848733480586489857',\n",
       " 'version': '1.0',\n",
       " 'width': 550}"
      ]
     },
     "execution_count": 24,
     "metadata": {},
     "output_type": "execute_result"
    }
   ],
   "source": [
    "embed_code.json()"
   ]
  },
  {
   "cell_type": "code",
   "execution_count": 48,
   "metadata": {
    "collapsed": true
   },
   "outputs": [],
   "source": [
    "embed_list = {}"
   ]
  },
  {
   "cell_type": "code",
   "execution_count": 49,
   "metadata": {
    "collapsed": true
   },
   "outputs": [],
   "source": [
    "embed_list[test_data[0]['statuses'][0]['id_str']] = embed_code.json()"
   ]
  },
  {
   "cell_type": "code",
   "execution_count": 50,
   "metadata": {
    "collapsed": false
   },
   "outputs": [
    {
     "data": {
      "text/plain": [
       "{'848733480586489857': {'author_name': 'mack moore',\n",
       "  'author_url': 'https://twitter.com/candidmack',\n",
       "  'cache_age': '3153600000',\n",
       "  'height': None,\n",
       "  'html': '<blockquote class=\"twitter-tweet\"><p lang=\"en\" dir=\"ltr\">holy shit!!!!!!!<br>I love New York.</p>&mdash; mack moore (@candidmack) <a href=\"https://twitter.com/candidmack/status/848733480586489857\">April 3, 2017</a></blockquote>\\n<script async src=\"//platform.twitter.com/widgets.js\" charset=\"utf-8\"></script>',\n",
       "  'provider_name': 'Twitter',\n",
       "  'provider_url': 'https://twitter.com',\n",
       "  'type': 'rich',\n",
       "  'url': 'https://twitter.com/candidmack/status/848733480586489857',\n",
       "  'version': '1.0',\n",
       "  'width': 550}}"
      ]
     },
     "execution_count": 50,
     "metadata": {},
     "output_type": "execute_result"
    }
   ],
   "source": [
    "embed_list"
   ]
  },
  {
   "cell_type": "code",
   "execution_count": 55,
   "metadata": {
    "collapsed": false
   },
   "outputs": [],
   "source": [
    "with open('embed_code.txt','w',encoding='utf-8') as embed_file:\n",
    "    embed_file.write(json.dumps(embed_list, ensure_ascii=False))"
   ]
  },
  {
   "cell_type": "code",
   "execution_count": 52,
   "metadata": {
    "collapsed": false
   },
   "outputs": [],
   "source": [
    "embed_list2 = {}\n",
    "with open('embed_code.txt','rt') as embed_file:\n",
    "    embed_list2 = json.loads(embed_file.read())"
   ]
  },
  {
   "cell_type": "code",
   "execution_count": 54,
   "metadata": {
    "collapsed": false
   },
   "outputs": [
    {
     "data": {
      "text/plain": [
       "{'author_name': 'mack moore',\n",
       " 'author_url': 'https://twitter.com/candidmack',\n",
       " 'cache_age': '3153600000',\n",
       " 'height': None,\n",
       " 'html': '<blockquote class=\"twitter-tweet\"><p lang=\"en\" dir=\"ltr\">holy shit!!!!!!!<br>I love New York.</p>&mdash; mack moore (@candidmack) <a href=\"https://twitter.com/candidmack/status/848733480586489857\">April 3, 2017</a></blockquote>\\n<script async src=\"//platform.twitter.com/widgets.js\" charset=\"utf-8\"></script>',\n",
       " 'provider_name': 'Twitter',\n",
       " 'provider_url': 'https://twitter.com',\n",
       " 'type': 'rich',\n",
       " 'url': 'https://twitter.com/candidmack/status/848733480586489857',\n",
       " 'version': '1.0',\n",
       " 'width': 550}"
      ]
     },
     "execution_count": 54,
     "metadata": {},
     "output_type": "execute_result"
    }
   ],
   "source": [
    "embed_list2['848733480586489857']"
   ]
  },
  {
   "cell_type": "code",
   "execution_count": 36,
   "metadata": {
    "collapsed": true
   },
   "outputs": [],
   "source": [
    "test_dict = {'a':'123', 'b':'4556'}"
   ]
  },
  {
   "cell_type": "code",
   "execution_count": 38,
   "metadata": {
    "collapsed": true
   },
   "outputs": [],
   "source": [
    "with open('test_dict.txt','w',encoding='utf-8') as test_file:\n",
    "    test_file.write(json.dumps(test_dict))"
   ]
  },
  {
   "cell_type": "code",
   "execution_count": 34,
   "metadata": {
    "collapsed": true
   },
   "outputs": [],
   "source": [
    "test_dict2 = {}"
   ]
  },
  {
   "cell_type": "code",
   "execution_count": 39,
   "metadata": {
    "collapsed": false
   },
   "outputs": [],
   "source": [
    "with open('test_dict.txt','rt') as test_file:\n",
    "    test_dict2=json.loads(test_file.read())"
   ]
  },
  {
   "cell_type": "code",
   "execution_count": 40,
   "metadata": {
    "collapsed": false
   },
   "outputs": [
    {
     "data": {
      "text/plain": [
       "{'a': '123', 'b': '4556'}"
      ]
     },
     "execution_count": 40,
     "metadata": {},
     "output_type": "execute_result"
    }
   ],
   "source": [
    "test_dict2"
   ]
  },
  {
   "cell_type": "code",
   "execution_count": 17,
   "metadata": {
    "collapsed": false
   },
   "outputs": [],
   "source": [
    "tweet_url = \"url=https://twitter.com/\"+test_data[0]['statuses'][0]['user']['id_str']+\"/status/\"+test_data[0]['statuses'][0]['id_str']"
   ]
  },
  {
   "cell_type": "code",
   "execution_count": 18,
   "metadata": {
    "collapsed": false
   },
   "outputs": [
    {
     "data": {
      "text/plain": [
       "'url=https://twitter.com/58143075/status/848733480586489857'"
      ]
     },
     "execution_count": 18,
     "metadata": {},
     "output_type": "execute_result"
    }
   ],
   "source": [
    "tweet_url"
   ]
  },
  {
   "cell_type": "code",
   "execution_count": 20,
   "metadata": {
    "collapsed": false
   },
   "outputs": [],
   "source": [
    "embed_code2 = requests.get('https://publish.twitter.com/oembed?'+tweet_url)"
   ]
  },
  {
   "cell_type": "code",
   "execution_count": 21,
   "metadata": {
    "collapsed": false
   },
   "outputs": [
    {
     "data": {
      "text/plain": [
       "<Response [200]>"
      ]
     },
     "execution_count": 21,
     "metadata": {},
     "output_type": "execute_result"
    }
   ],
   "source": [
    "embed_code2"
   ]
  },
  {
   "cell_type": "code",
   "execution_count": 23,
   "metadata": {
    "collapsed": false
   },
   "outputs": [
    {
     "data": {
      "text/plain": [
       "'<blockquote class=\"twitter-tweet\"><p lang=\"en\" dir=\"ltr\">holy shit!!!!!!!<br>I love New York.</p>&mdash; mack moore (@candidmack) <a href=\"https://twitter.com/candidmack/status/848733480586489857\">April 3, 2017</a></blockquote>\\n<script async src=\"//platform.twitter.com/widgets.js\" charset=\"utf-8\"></script>'"
      ]
     },
     "execution_count": 23,
     "metadata": {},
     "output_type": "execute_result"
    }
   ],
   "source": [
    "embed_code2.json()['html']"
   ]
  },
  {
   "cell_type": "code",
   "execution_count": null,
   "metadata": {
    "collapsed": false
   },
   "outputs": [],
   "source": [
    "r.json()['statuses'][1]['entities']['hashtags']"
   ]
  },
  {
   "cell_type": "code",
   "execution_count": null,
   "metadata": {
    "collapsed": false
   },
   "outputs": [],
   "source": [
    "r_losangeles.json()['statuses'][2]"
   ]
  },
  {
   "cell_type": "code",
   "execution_count": null,
   "metadata": {
    "collapsed": false
   },
   "outputs": [],
   "source": [
    "from bs4 import BeautifulSoup"
   ]
  },
  {
   "cell_type": "code",
   "execution_count": null,
   "metadata": {
    "collapsed": true
   },
   "outputs": [],
   "source": [
    "tweet_publish_page = requests.get()"
   ]
  },
  {
   "cell_type": "code",
   "execution_count": null,
   "metadata": {
    "collapsed": true
   },
   "outputs": [],
   "source": [
    "soup = BeautifulSoupt(tweet_publish_page, 'ltml')\n",
    "tweet_embed_text = soup.find_all('code', class_='EmbedCode-code').text"
   ]
  },
  {
   "cell_type": "code",
   "execution_count": null,
   "metadata": {
    "collapsed": true
   },
   "outputs": [],
   "source": [
    "import pandas"
   ]
  },
  {
   "cell_type": "code",
   "execution_count": null,
   "metadata": {
    "collapsed": true
   },
   "outputs": [],
   "source": [
    "test_data = pandas.DataFrame(columns=['hashtags',\n",
    "                                      'favorite_count',\n",
    "                                      'retweet_count',\n",
    "                                      'text'])"
   ]
  },
  {
   "cell_type": "code",
   "execution_count": null,
   "metadata": {
    "collapsed": false
   },
   "outputs": [],
   "source": [
    "select_data={'hashtags': r.json()['statuses'][1]['entities']['hashtags'],\n",
    "             'favorite_count': r.json()['statuses'][1]['favorite_count'],\n",
    "             'retweet_count': r.json()['statuses'][1]['retweet_count'],\n",
    "             'text': r.json()['statuses'][1]['text']}"
   ]
  },
  {
   "cell_type": "code",
   "execution_count": null,
   "metadata": {
    "collapsed": false
   },
   "outputs": [],
   "source": [
    "s_data = pandas.Series([r.json()['statuses'][1]['entities']['hashtags'],\n",
    "                       r.json()['statuses'][1]['favorite_count'],\n",
    "                       r.json()['statuses'][1]['retweet_count'],\n",
    "                       r.json()['statuses'][1]['text']])"
   ]
  },
  {
   "cell_type": "code",
   "execution_count": null,
   "metadata": {
    "collapsed": false
   },
   "outputs": [],
   "source": [
    "select_data"
   ]
  },
  {
   "cell_type": "code",
   "execution_count": null,
   "metadata": {
    "collapsed": false
   },
   "outputs": [],
   "source": [
    "trytry = pandas.DataFrame(select_data, columns = select_data)\n",
    "trytry"
   ]
  },
  {
   "cell_type": "code",
   "execution_count": null,
   "metadata": {
    "collapsed": false
   },
   "outputs": [],
   "source": [
    "ss_data = pandas.DataFrame()\n",
    "ss_data = ss_data.append(s_data, ignore_index=True)"
   ]
  },
  {
   "cell_type": "code",
   "execution_count": null,
   "metadata": {
    "collapsed": false
   },
   "outputs": [],
   "source": [
    "ss_data"
   ]
  },
  {
   "cell_type": "code",
   "execution_count": null,
   "metadata": {
    "collapsed": false
   },
   "outputs": [],
   "source": [
    "ss_data.columns=['a', 'b', 'c', 'd']"
   ]
  },
  {
   "cell_type": "code",
   "execution_count": null,
   "metadata": {
    "collapsed": false
   },
   "outputs": [],
   "source": [
    "ss_data"
   ]
  },
  {
   "cell_type": "code",
   "execution_count": null,
   "metadata": {
    "collapsed": true
   },
   "outputs": [],
   "source": [
    "from nltk.corpus import stopwords"
   ]
  },
  {
   "cell_type": "code",
   "execution_count": null,
   "metadata": {
    "collapsed": true
   },
   "outputs": [],
   "source": [
    "import tweepy"
   ]
  },
  {
   "cell_type": "code",
   "execution_count": null,
   "metadata": {
    "collapsed": true
   },
   "outputs": [],
   "source": []
  },
  {
   "cell_type": "code",
   "execution_count": null,
   "metadata": {
    "collapsed": true
   },
   "outputs": [],
   "source": [
    "auth = tweepy.OAuthHandler(secrets[\"api_key\"], secrets[\"api_secret\"])\n",
    "auth.set_access_token(secrets[\"access_token\"], secrets[\"access_token_secret\"])"
   ]
  },
  {
   "cell_type": "code",
   "execution_count": null,
   "metadata": {
    "collapsed": true
   },
   "outputs": [],
   "source": [
    "my_api = tweepy.API(auth)"
   ]
  },
  {
   "cell_type": "code",
   "execution_count": null,
   "metadata": {
    "collapsed": false
   },
   "outputs": [],
   "source": [
    "result = my_api.search(\"dinosaur\")"
   ]
  },
  {
   "cell_type": "code",
   "execution_count": null,
   "metadata": {
    "collapsed": false
   },
   "outputs": [],
   "source": [
    "len(result)"
   ]
  },
  {
   "cell_type": "code",
   "execution_count": null,
   "metadata": {
    "collapsed": false
   },
   "outputs": [],
   "source": [
    "type(result)"
   ]
  },
  {
   "cell_type": "code",
   "execution_count": null,
   "metadata": {
    "collapsed": false
   },
   "outputs": [],
   "source": [
    "type(result[1])"
   ]
  },
  {
   "cell_type": "code",
   "execution_count": null,
   "metadata": {
    "collapsed": false
   },
   "outputs": [],
   "source": [
    "result[1]"
   ]
  },
  {
   "cell_type": "code",
   "execution_count": null,
   "metadata": {
    "collapsed": true
   },
   "outputs": [],
   "source": []
  }
 ],
 "metadata": {
  "anaconda-cloud": {},
  "kernelspec": {
   "display_name": "Python [Root]",
   "language": "python",
   "name": "Python [Root]"
  },
  "language_info": {
   "codemirror_mode": {
    "name": "ipython",
    "version": 3
   },
   "file_extension": ".py",
   "mimetype": "text/x-python",
   "name": "python",
   "nbconvert_exporter": "python",
   "pygments_lexer": "ipython3",
   "version": "3.5.2"
  }
 },
 "nbformat": 4,
 "nbformat_minor": 0
}
